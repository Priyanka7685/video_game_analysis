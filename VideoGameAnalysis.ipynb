{
 "cells": [
  {
   "cell_type": "markdown",
   "id": "a83d07c4-17f4-4c3e-8174-1d5a2be96edd",
   "metadata": {},
   "source": [
    "### Importing libraries"
   ]
  },
  {
   "cell_type": "code",
   "execution_count": 2,
   "id": "052a4322-cb1b-46a7-86d6-46fb8deebbd7",
   "metadata": {},
   "outputs": [],
   "source": [
    "import pandas as pd\n",
    "import numpy as np\n",
    "import matplotlib.pyplot as plt\n",
    "import seaborn as sns\n",
    "import plotly.express as px"
   ]
  },
  {
   "cell_type": "markdown",
   "id": "3c7216e5-d306-4099-ba6f-b10520ed2588",
   "metadata": {},
   "source": [
    "### Loading dataset"
   ]
  },
  {
   "cell_type": "code",
   "execution_count": 3,
   "id": "928378b9-9113-4213-8582-5bf3d0e57ab4",
   "metadata": {},
   "outputs": [
    {
     "data": {
      "text/html": [
       "<div>\n",
       "<style scoped>\n",
       "    .dataframe tbody tr th:only-of-type {\n",
       "        vertical-align: middle;\n",
       "    }\n",
       "\n",
       "    .dataframe tbody tr th {\n",
       "        vertical-align: top;\n",
       "    }\n",
       "\n",
       "    .dataframe thead th {\n",
       "        text-align: right;\n",
       "    }\n",
       "</style>\n",
       "<table border=\"1\" class=\"dataframe\">\n",
       "  <thead>\n",
       "    <tr style=\"text-align: right;\">\n",
       "      <th></th>\n",
       "      <th>Rank</th>\n",
       "      <th>Name</th>\n",
       "      <th>Platform</th>\n",
       "      <th>Year</th>\n",
       "      <th>Genre</th>\n",
       "      <th>Publisher</th>\n",
       "      <th>NA_Sales</th>\n",
       "      <th>EU_Sales</th>\n",
       "      <th>JP_Sales</th>\n",
       "      <th>Other_Sales</th>\n",
       "      <th>Global_Sales</th>\n",
       "    </tr>\n",
       "  </thead>\n",
       "  <tbody>\n",
       "    <tr>\n",
       "      <th>0</th>\n",
       "      <td>1</td>\n",
       "      <td>Wii Sports</td>\n",
       "      <td>Wii</td>\n",
       "      <td>2006.0</td>\n",
       "      <td>Sports</td>\n",
       "      <td>Nintendo</td>\n",
       "      <td>41.49</td>\n",
       "      <td>29.02</td>\n",
       "      <td>3.77</td>\n",
       "      <td>8.46</td>\n",
       "      <td>82.74</td>\n",
       "    </tr>\n",
       "    <tr>\n",
       "      <th>1</th>\n",
       "      <td>2</td>\n",
       "      <td>Super Mario Bros.</td>\n",
       "      <td>NES</td>\n",
       "      <td>1985.0</td>\n",
       "      <td>Platform</td>\n",
       "      <td>Nintendo</td>\n",
       "      <td>29.08</td>\n",
       "      <td>3.58</td>\n",
       "      <td>6.81</td>\n",
       "      <td>0.77</td>\n",
       "      <td>40.24</td>\n",
       "    </tr>\n",
       "    <tr>\n",
       "      <th>2</th>\n",
       "      <td>3</td>\n",
       "      <td>Mario Kart Wii</td>\n",
       "      <td>Wii</td>\n",
       "      <td>2008.0</td>\n",
       "      <td>Racing</td>\n",
       "      <td>Nintendo</td>\n",
       "      <td>15.85</td>\n",
       "      <td>12.88</td>\n",
       "      <td>3.79</td>\n",
       "      <td>3.31</td>\n",
       "      <td>35.82</td>\n",
       "    </tr>\n",
       "    <tr>\n",
       "      <th>3</th>\n",
       "      <td>4</td>\n",
       "      <td>Wii Sports Resort</td>\n",
       "      <td>Wii</td>\n",
       "      <td>2009.0</td>\n",
       "      <td>Sports</td>\n",
       "      <td>Nintendo</td>\n",
       "      <td>15.75</td>\n",
       "      <td>11.01</td>\n",
       "      <td>3.28</td>\n",
       "      <td>2.96</td>\n",
       "      <td>33.00</td>\n",
       "    </tr>\n",
       "    <tr>\n",
       "      <th>4</th>\n",
       "      <td>5</td>\n",
       "      <td>Pokemon Red/Pokemon Blue</td>\n",
       "      <td>GB</td>\n",
       "      <td>1996.0</td>\n",
       "      <td>Role-Playing</td>\n",
       "      <td>Nintendo</td>\n",
       "      <td>11.27</td>\n",
       "      <td>8.89</td>\n",
       "      <td>10.22</td>\n",
       "      <td>1.00</td>\n",
       "      <td>31.37</td>\n",
       "    </tr>\n",
       "    <tr>\n",
       "      <th>...</th>\n",
       "      <td>...</td>\n",
       "      <td>...</td>\n",
       "      <td>...</td>\n",
       "      <td>...</td>\n",
       "      <td>...</td>\n",
       "      <td>...</td>\n",
       "      <td>...</td>\n",
       "      <td>...</td>\n",
       "      <td>...</td>\n",
       "      <td>...</td>\n",
       "      <td>...</td>\n",
       "    </tr>\n",
       "    <tr>\n",
       "      <th>16593</th>\n",
       "      <td>16596</td>\n",
       "      <td>Woody Woodpecker in Crazy Castle 5</td>\n",
       "      <td>GBA</td>\n",
       "      <td>2002.0</td>\n",
       "      <td>Platform</td>\n",
       "      <td>Kemco</td>\n",
       "      <td>0.01</td>\n",
       "      <td>0.00</td>\n",
       "      <td>0.00</td>\n",
       "      <td>0.00</td>\n",
       "      <td>0.01</td>\n",
       "    </tr>\n",
       "    <tr>\n",
       "      <th>16594</th>\n",
       "      <td>16597</td>\n",
       "      <td>Men in Black II: Alien Escape</td>\n",
       "      <td>GC</td>\n",
       "      <td>2003.0</td>\n",
       "      <td>Shooter</td>\n",
       "      <td>Infogrames</td>\n",
       "      <td>0.01</td>\n",
       "      <td>0.00</td>\n",
       "      <td>0.00</td>\n",
       "      <td>0.00</td>\n",
       "      <td>0.01</td>\n",
       "    </tr>\n",
       "    <tr>\n",
       "      <th>16595</th>\n",
       "      <td>16598</td>\n",
       "      <td>SCORE International Baja 1000: The Official Game</td>\n",
       "      <td>PS2</td>\n",
       "      <td>2008.0</td>\n",
       "      <td>Racing</td>\n",
       "      <td>Activision</td>\n",
       "      <td>0.00</td>\n",
       "      <td>0.00</td>\n",
       "      <td>0.00</td>\n",
       "      <td>0.00</td>\n",
       "      <td>0.01</td>\n",
       "    </tr>\n",
       "    <tr>\n",
       "      <th>16596</th>\n",
       "      <td>16599</td>\n",
       "      <td>Know How 2</td>\n",
       "      <td>DS</td>\n",
       "      <td>2010.0</td>\n",
       "      <td>Puzzle</td>\n",
       "      <td>7G//AMES</td>\n",
       "      <td>0.00</td>\n",
       "      <td>0.01</td>\n",
       "      <td>0.00</td>\n",
       "      <td>0.00</td>\n",
       "      <td>0.01</td>\n",
       "    </tr>\n",
       "    <tr>\n",
       "      <th>16597</th>\n",
       "      <td>16600</td>\n",
       "      <td>Spirits &amp; Spells</td>\n",
       "      <td>GBA</td>\n",
       "      <td>2003.0</td>\n",
       "      <td>Platform</td>\n",
       "      <td>Wanadoo</td>\n",
       "      <td>0.01</td>\n",
       "      <td>0.00</td>\n",
       "      <td>0.00</td>\n",
       "      <td>0.00</td>\n",
       "      <td>0.01</td>\n",
       "    </tr>\n",
       "  </tbody>\n",
       "</table>\n",
       "<p>16598 rows × 11 columns</p>\n",
       "</div>"
      ],
      "text/plain": [
       "        Rank                                              Name Platform  \\\n",
       "0          1                                        Wii Sports      Wii   \n",
       "1          2                                 Super Mario Bros.      NES   \n",
       "2          3                                    Mario Kart Wii      Wii   \n",
       "3          4                                 Wii Sports Resort      Wii   \n",
       "4          5                          Pokemon Red/Pokemon Blue       GB   \n",
       "...      ...                                               ...      ...   \n",
       "16593  16596                Woody Woodpecker in Crazy Castle 5      GBA   \n",
       "16594  16597                     Men in Black II: Alien Escape       GC   \n",
       "16595  16598  SCORE International Baja 1000: The Official Game      PS2   \n",
       "16596  16599                                        Know How 2       DS   \n",
       "16597  16600                                  Spirits & Spells      GBA   \n",
       "\n",
       "         Year         Genre   Publisher  NA_Sales  EU_Sales  JP_Sales  \\\n",
       "0      2006.0        Sports    Nintendo     41.49     29.02      3.77   \n",
       "1      1985.0      Platform    Nintendo     29.08      3.58      6.81   \n",
       "2      2008.0        Racing    Nintendo     15.85     12.88      3.79   \n",
       "3      2009.0        Sports    Nintendo     15.75     11.01      3.28   \n",
       "4      1996.0  Role-Playing    Nintendo     11.27      8.89     10.22   \n",
       "...       ...           ...         ...       ...       ...       ...   \n",
       "16593  2002.0      Platform       Kemco      0.01      0.00      0.00   \n",
       "16594  2003.0       Shooter  Infogrames      0.01      0.00      0.00   \n",
       "16595  2008.0        Racing  Activision      0.00      0.00      0.00   \n",
       "16596  2010.0        Puzzle    7G//AMES      0.00      0.01      0.00   \n",
       "16597  2003.0      Platform     Wanadoo      0.01      0.00      0.00   \n",
       "\n",
       "       Other_Sales  Global_Sales  \n",
       "0             8.46         82.74  \n",
       "1             0.77         40.24  \n",
       "2             3.31         35.82  \n",
       "3             2.96         33.00  \n",
       "4             1.00         31.37  \n",
       "...            ...           ...  \n",
       "16593         0.00          0.01  \n",
       "16594         0.00          0.01  \n",
       "16595         0.00          0.01  \n",
       "16596         0.00          0.01  \n",
       "16597         0.00          0.01  \n",
       "\n",
       "[16598 rows x 11 columns]"
      ]
     },
     "execution_count": 3,
     "metadata": {},
     "output_type": "execute_result"
    }
   ],
   "source": [
    "df = pd.read_csv(\"vgsales.csv\")\n",
    "df"
   ]
  },
  {
   "cell_type": "code",
   "execution_count": 4,
   "id": "cbe9ec54-9c32-47f4-9b21-f79b9eddf6bd",
   "metadata": {},
   "outputs": [
    {
     "data": {
      "text/plain": [
       "Index(['Rank', 'Name', 'Platform', 'Year', 'Genre', 'Publisher', 'NA_Sales',\n",
       "       'EU_Sales', 'JP_Sales', 'Other_Sales', 'Global_Sales'],\n",
       "      dtype='object')"
      ]
     },
     "execution_count": 4,
     "metadata": {},
     "output_type": "execute_result"
    }
   ],
   "source": [
    "df.columns"
   ]
  },
  {
   "cell_type": "markdown",
   "id": "e9e79738-fb9b-40d5-9c2c-91869ea1cf17",
   "metadata": {},
   "source": [
    "### Dataset Overview"
   ]
  },
  {
   "cell_type": "code",
   "execution_count": 5,
   "id": "fa6fbe33-1fe5-4839-b8cf-270cd21ad0ba",
   "metadata": {},
   "outputs": [
    {
     "name": "stdout",
     "output_type": "stream",
     "text": [
      "<class 'pandas.core.frame.DataFrame'>\n",
      "RangeIndex: 16598 entries, 0 to 16597\n",
      "Data columns (total 11 columns):\n",
      " #   Column        Non-Null Count  Dtype  \n",
      "---  ------        --------------  -----  \n",
      " 0   Rank          16598 non-null  int64  \n",
      " 1   Name          16598 non-null  object \n",
      " 2   Platform      16598 non-null  object \n",
      " 3   Year          16327 non-null  float64\n",
      " 4   Genre         16598 non-null  object \n",
      " 5   Publisher     16540 non-null  object \n",
      " 6   NA_Sales      16598 non-null  float64\n",
      " 7   EU_Sales      16598 non-null  float64\n",
      " 8   JP_Sales      16598 non-null  float64\n",
      " 9   Other_Sales   16598 non-null  float64\n",
      " 10  Global_Sales  16598 non-null  float64\n",
      "dtypes: float64(6), int64(1), object(4)\n",
      "memory usage: 1.4+ MB\n"
     ]
    }
   ],
   "source": [
    "df.info()"
   ]
  },
  {
   "cell_type": "code",
   "execution_count": 11,
   "id": "315e8e64-920f-49b3-be9e-20171316603d",
   "metadata": {},
   "outputs": [
    {
     "data": {
      "text/html": [
       "<div>\n",
       "<style scoped>\n",
       "    .dataframe tbody tr th:only-of-type {\n",
       "        vertical-align: middle;\n",
       "    }\n",
       "\n",
       "    .dataframe tbody tr th {\n",
       "        vertical-align: top;\n",
       "    }\n",
       "\n",
       "    .dataframe thead th {\n",
       "        text-align: right;\n",
       "    }\n",
       "</style>\n",
       "<table border=\"1\" class=\"dataframe\">\n",
       "  <thead>\n",
       "    <tr style=\"text-align: right;\">\n",
       "      <th></th>\n",
       "      <th>Rank</th>\n",
       "      <th>Name</th>\n",
       "      <th>Platform</th>\n",
       "      <th>Year</th>\n",
       "      <th>Genre</th>\n",
       "      <th>Publisher</th>\n",
       "      <th>NA_Sales</th>\n",
       "      <th>EU_Sales</th>\n",
       "      <th>JP_Sales</th>\n",
       "      <th>Other_Sales</th>\n",
       "      <th>Global_Sales</th>\n",
       "    </tr>\n",
       "  </thead>\n",
       "  <tbody>\n",
       "    <tr>\n",
       "      <th>0</th>\n",
       "      <td>1</td>\n",
       "      <td>Wii Sports</td>\n",
       "      <td>Wii</td>\n",
       "      <td>2006.0</td>\n",
       "      <td>Sports</td>\n",
       "      <td>Nintendo</td>\n",
       "      <td>41.49</td>\n",
       "      <td>29.02</td>\n",
       "      <td>3.77</td>\n",
       "      <td>8.46</td>\n",
       "      <td>82.74</td>\n",
       "    </tr>\n",
       "    <tr>\n",
       "      <th>1</th>\n",
       "      <td>2</td>\n",
       "      <td>Super Mario Bros.</td>\n",
       "      <td>NES</td>\n",
       "      <td>1985.0</td>\n",
       "      <td>Platform</td>\n",
       "      <td>Nintendo</td>\n",
       "      <td>29.08</td>\n",
       "      <td>3.58</td>\n",
       "      <td>6.81</td>\n",
       "      <td>0.77</td>\n",
       "      <td>40.24</td>\n",
       "    </tr>\n",
       "    <tr>\n",
       "      <th>2</th>\n",
       "      <td>3</td>\n",
       "      <td>Mario Kart Wii</td>\n",
       "      <td>Wii</td>\n",
       "      <td>2008.0</td>\n",
       "      <td>Racing</td>\n",
       "      <td>Nintendo</td>\n",
       "      <td>15.85</td>\n",
       "      <td>12.88</td>\n",
       "      <td>3.79</td>\n",
       "      <td>3.31</td>\n",
       "      <td>35.82</td>\n",
       "    </tr>\n",
       "    <tr>\n",
       "      <th>3</th>\n",
       "      <td>4</td>\n",
       "      <td>Wii Sports Resort</td>\n",
       "      <td>Wii</td>\n",
       "      <td>2009.0</td>\n",
       "      <td>Sports</td>\n",
       "      <td>Nintendo</td>\n",
       "      <td>15.75</td>\n",
       "      <td>11.01</td>\n",
       "      <td>3.28</td>\n",
       "      <td>2.96</td>\n",
       "      <td>33.00</td>\n",
       "    </tr>\n",
       "    <tr>\n",
       "      <th>4</th>\n",
       "      <td>5</td>\n",
       "      <td>Pokemon Red/Pokemon Blue</td>\n",
       "      <td>GB</td>\n",
       "      <td>1996.0</td>\n",
       "      <td>Role-Playing</td>\n",
       "      <td>Nintendo</td>\n",
       "      <td>11.27</td>\n",
       "      <td>8.89</td>\n",
       "      <td>10.22</td>\n",
       "      <td>1.00</td>\n",
       "      <td>31.37</td>\n",
       "    </tr>\n",
       "  </tbody>\n",
       "</table>\n",
       "</div>"
      ],
      "text/plain": [
       "   Rank                      Name Platform    Year         Genre Publisher  \\\n",
       "0     1                Wii Sports      Wii  2006.0        Sports  Nintendo   \n",
       "1     2         Super Mario Bros.      NES  1985.0      Platform  Nintendo   \n",
       "2     3            Mario Kart Wii      Wii  2008.0        Racing  Nintendo   \n",
       "3     4         Wii Sports Resort      Wii  2009.0        Sports  Nintendo   \n",
       "4     5  Pokemon Red/Pokemon Blue       GB  1996.0  Role-Playing  Nintendo   \n",
       "\n",
       "   NA_Sales  EU_Sales  JP_Sales  Other_Sales  Global_Sales  \n",
       "0     41.49     29.02      3.77         8.46         82.74  \n",
       "1     29.08      3.58      6.81         0.77         40.24  \n",
       "2     15.85     12.88      3.79         3.31         35.82  \n",
       "3     15.75     11.01      3.28         2.96         33.00  \n",
       "4     11.27      8.89     10.22         1.00         31.37  "
      ]
     },
     "execution_count": 11,
     "metadata": {},
     "output_type": "execute_result"
    }
   ],
   "source": [
    "df.head()"
   ]
  },
  {
   "cell_type": "markdown",
   "id": "d430ac01-2133-43a3-89e9-bba3f0e080d2",
   "metadata": {},
   "source": [
    "### Handling Missing values"
   ]
  },
  {
   "cell_type": "code",
   "execution_count": 6,
   "id": "470768df-6b79-4062-9237-3b7214b61a73",
   "metadata": {},
   "outputs": [
    {
     "data": {
      "text/html": [
       "<div>\n",
       "<style scoped>\n",
       "    .dataframe tbody tr th:only-of-type {\n",
       "        vertical-align: middle;\n",
       "    }\n",
       "\n",
       "    .dataframe tbody tr th {\n",
       "        vertical-align: top;\n",
       "    }\n",
       "\n",
       "    .dataframe thead th {\n",
       "        text-align: right;\n",
       "    }\n",
       "</style>\n",
       "<table border=\"1\" class=\"dataframe\">\n",
       "  <thead>\n",
       "    <tr style=\"text-align: right;\">\n",
       "      <th></th>\n",
       "      <th>Rank</th>\n",
       "      <th>Year</th>\n",
       "      <th>NA_Sales</th>\n",
       "      <th>EU_Sales</th>\n",
       "      <th>JP_Sales</th>\n",
       "      <th>Other_Sales</th>\n",
       "      <th>Global_Sales</th>\n",
       "    </tr>\n",
       "  </thead>\n",
       "  <tbody>\n",
       "    <tr>\n",
       "      <th>count</th>\n",
       "      <td>16598.000000</td>\n",
       "      <td>16327.000000</td>\n",
       "      <td>16598.000000</td>\n",
       "      <td>16598.000000</td>\n",
       "      <td>16598.000000</td>\n",
       "      <td>16598.000000</td>\n",
       "      <td>16598.000000</td>\n",
       "    </tr>\n",
       "    <tr>\n",
       "      <th>mean</th>\n",
       "      <td>8300.605254</td>\n",
       "      <td>2006.406443</td>\n",
       "      <td>0.264667</td>\n",
       "      <td>0.146652</td>\n",
       "      <td>0.077782</td>\n",
       "      <td>0.048063</td>\n",
       "      <td>0.537441</td>\n",
       "    </tr>\n",
       "    <tr>\n",
       "      <th>std</th>\n",
       "      <td>4791.853933</td>\n",
       "      <td>5.828981</td>\n",
       "      <td>0.816683</td>\n",
       "      <td>0.505351</td>\n",
       "      <td>0.309291</td>\n",
       "      <td>0.188588</td>\n",
       "      <td>1.555028</td>\n",
       "    </tr>\n",
       "    <tr>\n",
       "      <th>min</th>\n",
       "      <td>1.000000</td>\n",
       "      <td>1980.000000</td>\n",
       "      <td>0.000000</td>\n",
       "      <td>0.000000</td>\n",
       "      <td>0.000000</td>\n",
       "      <td>0.000000</td>\n",
       "      <td>0.010000</td>\n",
       "    </tr>\n",
       "    <tr>\n",
       "      <th>25%</th>\n",
       "      <td>4151.250000</td>\n",
       "      <td>2003.000000</td>\n",
       "      <td>0.000000</td>\n",
       "      <td>0.000000</td>\n",
       "      <td>0.000000</td>\n",
       "      <td>0.000000</td>\n",
       "      <td>0.060000</td>\n",
       "    </tr>\n",
       "    <tr>\n",
       "      <th>50%</th>\n",
       "      <td>8300.500000</td>\n",
       "      <td>2007.000000</td>\n",
       "      <td>0.080000</td>\n",
       "      <td>0.020000</td>\n",
       "      <td>0.000000</td>\n",
       "      <td>0.010000</td>\n",
       "      <td>0.170000</td>\n",
       "    </tr>\n",
       "    <tr>\n",
       "      <th>75%</th>\n",
       "      <td>12449.750000</td>\n",
       "      <td>2010.000000</td>\n",
       "      <td>0.240000</td>\n",
       "      <td>0.110000</td>\n",
       "      <td>0.040000</td>\n",
       "      <td>0.040000</td>\n",
       "      <td>0.470000</td>\n",
       "    </tr>\n",
       "    <tr>\n",
       "      <th>max</th>\n",
       "      <td>16600.000000</td>\n",
       "      <td>2020.000000</td>\n",
       "      <td>41.490000</td>\n",
       "      <td>29.020000</td>\n",
       "      <td>10.220000</td>\n",
       "      <td>10.570000</td>\n",
       "      <td>82.740000</td>\n",
       "    </tr>\n",
       "  </tbody>\n",
       "</table>\n",
       "</div>"
      ],
      "text/plain": [
       "               Rank          Year      NA_Sales      EU_Sales      JP_Sales  \\\n",
       "count  16598.000000  16327.000000  16598.000000  16598.000000  16598.000000   \n",
       "mean    8300.605254   2006.406443      0.264667      0.146652      0.077782   \n",
       "std     4791.853933      5.828981      0.816683      0.505351      0.309291   \n",
       "min        1.000000   1980.000000      0.000000      0.000000      0.000000   \n",
       "25%     4151.250000   2003.000000      0.000000      0.000000      0.000000   \n",
       "50%     8300.500000   2007.000000      0.080000      0.020000      0.000000   \n",
       "75%    12449.750000   2010.000000      0.240000      0.110000      0.040000   \n",
       "max    16600.000000   2020.000000     41.490000     29.020000     10.220000   \n",
       "\n",
       "        Other_Sales  Global_Sales  \n",
       "count  16598.000000  16598.000000  \n",
       "mean       0.048063      0.537441  \n",
       "std        0.188588      1.555028  \n",
       "min        0.000000      0.010000  \n",
       "25%        0.000000      0.060000  \n",
       "50%        0.010000      0.170000  \n",
       "75%        0.040000      0.470000  \n",
       "max       10.570000     82.740000  "
      ]
     },
     "execution_count": 6,
     "metadata": {},
     "output_type": "execute_result"
    }
   ],
   "source": [
    "df.describe()"
   ]
  },
  {
   "cell_type": "code",
   "execution_count": 7,
   "id": "e7fe6f87-3e85-4b49-adaf-26be2c9d8e87",
   "metadata": {},
   "outputs": [
    {
     "data": {
      "text/plain": [
       "Rank              0\n",
       "Name              0\n",
       "Platform          0\n",
       "Year            271\n",
       "Genre             0\n",
       "Publisher        58\n",
       "NA_Sales          0\n",
       "EU_Sales          0\n",
       "JP_Sales          0\n",
       "Other_Sales       0\n",
       "Global_Sales      0\n",
       "dtype: int64"
      ]
     },
     "execution_count": 7,
     "metadata": {},
     "output_type": "execute_result"
    }
   ],
   "source": [
    "df.isnull().sum()"
   ]
  },
  {
   "cell_type": "markdown",
   "id": "0d08b5df-e546-4d88-a353-734f4d503f62",
   "metadata": {},
   "source": [
    "### Data Cleaning"
   ]
  },
  {
   "cell_type": "code",
   "execution_count": 8,
   "id": "d4c49402-cd61-40b5-b104-f914b29481fc",
   "metadata": {},
   "outputs": [],
   "source": [
    "df.fillna({\"Year\":df[\"Year\"].mean()}, inplace=True)"
   ]
  },
  {
   "cell_type": "code",
   "execution_count": 9,
   "id": "448b06f7-725a-4be4-93bd-58a9be1c9bbc",
   "metadata": {},
   "outputs": [
    {
     "data": {
      "text/plain": [
       "Rank             0\n",
       "Name             0\n",
       "Platform         0\n",
       "Year             0\n",
       "Genre            0\n",
       "Publisher       58\n",
       "NA_Sales         0\n",
       "EU_Sales         0\n",
       "JP_Sales         0\n",
       "Other_Sales      0\n",
       "Global_Sales     0\n",
       "dtype: int64"
      ]
     },
     "execution_count": 9,
     "metadata": {},
     "output_type": "execute_result"
    }
   ],
   "source": [
    "df.isnull().sum()"
   ]
  },
  {
   "cell_type": "code",
   "execution_count": 10,
   "id": "d4da52bf-bf7c-46de-ac13-eca27e8f4eb4",
   "metadata": {},
   "outputs": [],
   "source": [
    "df.fillna({\"Publisher\":df[\"Publisher\"].mode()[0]}, inplace=True)"
   ]
  },
  {
   "cell_type": "code",
   "execution_count": 11,
   "id": "6804124a-8f11-45ea-8992-3f49965a179d",
   "metadata": {},
   "outputs": [
    {
     "data": {
      "text/plain": [
       "Rank            0\n",
       "Name            0\n",
       "Platform        0\n",
       "Year            0\n",
       "Genre           0\n",
       "Publisher       0\n",
       "NA_Sales        0\n",
       "EU_Sales        0\n",
       "JP_Sales        0\n",
       "Other_Sales     0\n",
       "Global_Sales    0\n",
       "dtype: int64"
      ]
     },
     "execution_count": 11,
     "metadata": {},
     "output_type": "execute_result"
    }
   ],
   "source": [
    "df.isnull().sum()"
   ]
  },
  {
   "cell_type": "code",
   "execution_count": 14,
   "id": "cdb703eb-8f27-4303-a2af-dd1d75e1fc09",
   "metadata": {},
   "outputs": [],
   "source": [
    "df['Year'] = df['Year'].round().astype(float) "
   ]
  },
  {
   "cell_type": "markdown",
   "id": "9ab0c00c-696a-40a8-9627-327a0db81d37",
   "metadata": {},
   "source": [
    "### Global Sales Distribution"
   ]
  },
  {
   "cell_type": "code",
   "execution_count": 10,
   "id": "fce98118-cda7-4251-a58a-7d1c33102b8a",
   "metadata": {},
   "outputs": [
    {
     "data": {
      "application/vnd.plotly.v1+json": {
       "config": {
        "plotlyServerURL": "https://plot.ly"
       },
       "data": [
        {
         "bingroup": "x",
         "hovertemplate": "Global Sales (Millions)=%{x}<br>count=%{y}<extra></extra>",
         "legendgroup": "",
         "marker": {
          "color": "#636efa",
          "pattern": {
           "shape": ""
          }
         },
         "name": "",
         "nbinsx": 40,
         "orientation": "v",
         "showlegend": false,
         "type": "histogram",
         "x": {
          "bdata": "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",
          "dtype": "f8"
         },
         "xaxis": "x",
         "yaxis": "y"
        }
       ],
       "layout": {
        "barmode": "relative",
        "legend": {
         "tracegroupgap": 0
        },
        "template": {
         "data": {
          "bar": [
           {
            "error_x": {
             "color": "#2a3f5f"
            },
            "error_y": {
             "color": "#2a3f5f"
            },
            "marker": {
             "line": {
              "color": "#E5ECF6",
              "width": 0.5
             },
             "pattern": {
              "fillmode": "overlay",
              "size": 10,
              "solidity": 0.2
             }
            },
            "type": "bar"
           }
          ],
          "barpolar": [
           {
            "marker": {
             "line": {
              "color": "#E5ECF6",
              "width": 0.5
             },
             "pattern": {
              "fillmode": "overlay",
              "size": 10,
              "solidity": 0.2
             }
            },
            "type": "barpolar"
           }
          ],
          "carpet": [
           {
            "aaxis": {
             "endlinecolor": "#2a3f5f",
             "gridcolor": "white",
             "linecolor": "white",
             "minorgridcolor": "white",
             "startlinecolor": "#2a3f5f"
            },
            "baxis": {
             "endlinecolor": "#2a3f5f",
             "gridcolor": "white",
             "linecolor": "white",
             "minorgridcolor": "white",
             "startlinecolor": "#2a3f5f"
            },
            "type": "carpet"
           }
          ],
          "choropleth": [
           {
            "colorbar": {
             "outlinewidth": 0,
             "ticks": ""
            },
            "type": "choropleth"
           }
          ],
          "contour": [
           {
            "colorbar": {
             "outlinewidth": 0,
             "ticks": ""
            },
            "colorscale": [
             [
              0,
              "#0d0887"
             ],
             [
              0.1111111111111111,
              "#46039f"
             ],
             [
              0.2222222222222222,
              "#7201a8"
             ],
             [
              0.3333333333333333,
              "#9c179e"
             ],
             [
              0.4444444444444444,
              "#bd3786"
             ],
             [
              0.5555555555555556,
              "#d8576b"
             ],
             [
              0.6666666666666666,
              "#ed7953"
             ],
             [
              0.7777777777777778,
              "#fb9f3a"
             ],
             [
              0.8888888888888888,
              "#fdca26"
             ],
             [
              1,
              "#f0f921"
             ]
            ],
            "type": "contour"
           }
          ],
          "contourcarpet": [
           {
            "colorbar": {
             "outlinewidth": 0,
             "ticks": ""
            },
            "type": "contourcarpet"
           }
          ],
          "heatmap": [
           {
            "colorbar": {
             "outlinewidth": 0,
             "ticks": ""
            },
            "colorscale": [
             [
              0,
              "#0d0887"
             ],
             [
              0.1111111111111111,
              "#46039f"
             ],
             [
              0.2222222222222222,
              "#7201a8"
             ],
             [
              0.3333333333333333,
              "#9c179e"
             ],
             [
              0.4444444444444444,
              "#bd3786"
             ],
             [
              0.5555555555555556,
              "#d8576b"
             ],
             [
              0.6666666666666666,
              "#ed7953"
             ],
             [
              0.7777777777777778,
              "#fb9f3a"
             ],
             [
              0.8888888888888888,
              "#fdca26"
             ],
             [
              1,
              "#f0f921"
             ]
            ],
            "type": "heatmap"
           }
          ],
          "histogram": [
           {
            "marker": {
             "pattern": {
              "fillmode": "overlay",
              "size": 10,
              "solidity": 0.2
             }
            },
            "type": "histogram"
           }
          ],
          "histogram2d": [
           {
            "colorbar": {
             "outlinewidth": 0,
             "ticks": ""
            },
            "colorscale": [
             [
              0,
              "#0d0887"
             ],
             [
              0.1111111111111111,
              "#46039f"
             ],
             [
              0.2222222222222222,
              "#7201a8"
             ],
             [
              0.3333333333333333,
              "#9c179e"
             ],
             [
              0.4444444444444444,
              "#bd3786"
             ],
             [
              0.5555555555555556,
              "#d8576b"
             ],
             [
              0.6666666666666666,
              "#ed7953"
             ],
             [
              0.7777777777777778,
              "#fb9f3a"
             ],
             [
              0.8888888888888888,
              "#fdca26"
             ],
             [
              1,
              "#f0f921"
             ]
            ],
            "type": "histogram2d"
           }
          ],
          "histogram2dcontour": [
           {
            "colorbar": {
             "outlinewidth": 0,
             "ticks": ""
            },
            "colorscale": [
             [
              0,
              "#0d0887"
             ],
             [
              0.1111111111111111,
              "#46039f"
             ],
             [
              0.2222222222222222,
              "#7201a8"
             ],
             [
              0.3333333333333333,
              "#9c179e"
             ],
             [
              0.4444444444444444,
              "#bd3786"
             ],
             [
              0.5555555555555556,
              "#d8576b"
             ],
             [
              0.6666666666666666,
              "#ed7953"
             ],
             [
              0.7777777777777778,
              "#fb9f3a"
             ],
             [
              0.8888888888888888,
              "#fdca26"
             ],
             [
              1,
              "#f0f921"
             ]
            ],
            "type": "histogram2dcontour"
           }
          ],
          "mesh3d": [
           {
            "colorbar": {
             "outlinewidth": 0,
             "ticks": ""
            },
            "type": "mesh3d"
           }
          ],
          "parcoords": [
           {
            "line": {
             "colorbar": {
              "outlinewidth": 0,
              "ticks": ""
             }
            },
            "type": "parcoords"
           }
          ],
          "pie": [
           {
            "automargin": true,
            "type": "pie"
           }
          ],
          "scatter": [
           {
            "fillpattern": {
             "fillmode": "overlay",
             "size": 10,
             "solidity": 0.2
            },
            "type": "scatter"
           }
          ],
          "scatter3d": [
           {
            "line": {
             "colorbar": {
              "outlinewidth": 0,
              "ticks": ""
             }
            },
            "marker": {
             "colorbar": {
              "outlinewidth": 0,
              "ticks": ""
             }
            },
            "type": "scatter3d"
           }
          ],
          "scattercarpet": [
           {
            "marker": {
             "colorbar": {
              "outlinewidth": 0,
              "ticks": ""
             }
            },
            "type": "scattercarpet"
           }
          ],
          "scattergeo": [
           {
            "marker": {
             "colorbar": {
              "outlinewidth": 0,
              "ticks": ""
             }
            },
            "type": "scattergeo"
           }
          ],
          "scattergl": [
           {
            "marker": {
             "colorbar": {
              "outlinewidth": 0,
              "ticks": ""
             }
            },
            "type": "scattergl"
           }
          ],
          "scattermap": [
           {
            "marker": {
             "colorbar": {
              "outlinewidth": 0,
              "ticks": ""
             }
            },
            "type": "scattermap"
           }
          ],
          "scattermapbox": [
           {
            "marker": {
             "colorbar": {
              "outlinewidth": 0,
              "ticks": ""
             }
            },
            "type": "scattermapbox"
           }
          ],
          "scatterpolar": [
           {
            "marker": {
             "colorbar": {
              "outlinewidth": 0,
              "ticks": ""
             }
            },
            "type": "scatterpolar"
           }
          ],
          "scatterpolargl": [
           {
            "marker": {
             "colorbar": {
              "outlinewidth": 0,
              "ticks": ""
             }
            },
            "type": "scatterpolargl"
           }
          ],
          "scatterternary": [
           {
            "marker": {
             "colorbar": {
              "outlinewidth": 0,
              "ticks": ""
             }
            },
            "type": "scatterternary"
           }
          ],
          "surface": [
           {
            "colorbar": {
             "outlinewidth": 0,
             "ticks": ""
            },
            "colorscale": [
             [
              0,
              "#0d0887"
             ],
             [
              0.1111111111111111,
              "#46039f"
             ],
             [
              0.2222222222222222,
              "#7201a8"
             ],
             [
              0.3333333333333333,
              "#9c179e"
             ],
             [
              0.4444444444444444,
              "#bd3786"
             ],
             [
              0.5555555555555556,
              "#d8576b"
             ],
             [
              0.6666666666666666,
              "#ed7953"
             ],
             [
              0.7777777777777778,
              "#fb9f3a"
             ],
             [
              0.8888888888888888,
              "#fdca26"
             ],
             [
              1,
              "#f0f921"
             ]
            ],
            "type": "surface"
           }
          ],
          "table": [
           {
            "cells": {
             "fill": {
              "color": "#EBF0F8"
             },
             "line": {
              "color": "white"
             }
            },
            "header": {
             "fill": {
              "color": "#C8D4E3"
             },
             "line": {
              "color": "white"
             }
            },
            "type": "table"
           }
          ]
         },
         "layout": {
          "annotationdefaults": {
           "arrowcolor": "#2a3f5f",
           "arrowhead": 0,
           "arrowwidth": 1
          },
          "autotypenumbers": "strict",
          "coloraxis": {
           "colorbar": {
            "outlinewidth": 0,
            "ticks": ""
           }
          },
          "colorscale": {
           "diverging": [
            [
             0,
             "#8e0152"
            ],
            [
             0.1,
             "#c51b7d"
            ],
            [
             0.2,
             "#de77ae"
            ],
            [
             0.3,
             "#f1b6da"
            ],
            [
             0.4,
             "#fde0ef"
            ],
            [
             0.5,
             "#f7f7f7"
            ],
            [
             0.6,
             "#e6f5d0"
            ],
            [
             0.7,
             "#b8e186"
            ],
            [
             0.8,
             "#7fbc41"
            ],
            [
             0.9,
             "#4d9221"
            ],
            [
             1,
             "#276419"
            ]
           ],
           "sequential": [
            [
             0,
             "#0d0887"
            ],
            [
             0.1111111111111111,
             "#46039f"
            ],
            [
             0.2222222222222222,
             "#7201a8"
            ],
            [
             0.3333333333333333,
             "#9c179e"
            ],
            [
             0.4444444444444444,
             "#bd3786"
            ],
            [
             0.5555555555555556,
             "#d8576b"
            ],
            [
             0.6666666666666666,
             "#ed7953"
            ],
            [
             0.7777777777777778,
             "#fb9f3a"
            ],
            [
             0.8888888888888888,
             "#fdca26"
            ],
            [
             1,
             "#f0f921"
            ]
           ],
           "sequentialminus": [
            [
             0,
             "#0d0887"
            ],
            [
             0.1111111111111111,
             "#46039f"
            ],
            [
             0.2222222222222222,
             "#7201a8"
            ],
            [
             0.3333333333333333,
             "#9c179e"
            ],
            [
             0.4444444444444444,
             "#bd3786"
            ],
            [
             0.5555555555555556,
             "#d8576b"
            ],
            [
             0.6666666666666666,
             "#ed7953"
            ],
            [
             0.7777777777777778,
             "#fb9f3a"
            ],
            [
             0.8888888888888888,
             "#fdca26"
            ],
            [
             1,
             "#f0f921"
            ]
           ]
          },
          "colorway": [
           "#636efa",
           "#EF553B",
           "#00cc96",
           "#ab63fa",
           "#FFA15A",
           "#19d3f3",
           "#FF6692",
           "#B6E880",
           "#FF97FF",
           "#FECB52"
          ],
          "font": {
           "color": "#2a3f5f"
          },
          "geo": {
           "bgcolor": "white",
           "lakecolor": "white",
           "landcolor": "#E5ECF6",
           "showlakes": true,
           "showland": true,
           "subunitcolor": "white"
          },
          "hoverlabel": {
           "align": "left"
          },
          "hovermode": "closest",
          "mapbox": {
           "style": "light"
          },
          "paper_bgcolor": "white",
          "plot_bgcolor": "#E5ECF6",
          "polar": {
           "angularaxis": {
            "gridcolor": "white",
            "linecolor": "white",
            "ticks": ""
           },
           "bgcolor": "#E5ECF6",
           "radialaxis": {
            "gridcolor": "white",
            "linecolor": "white",
            "ticks": ""
           }
          },
          "scene": {
           "xaxis": {
            "backgroundcolor": "#E5ECF6",
            "gridcolor": "white",
            "gridwidth": 2,
            "linecolor": "white",
            "showbackground": true,
            "ticks": "",
            "zerolinecolor": "white"
           },
           "yaxis": {
            "backgroundcolor": "#E5ECF6",
            "gridcolor": "white",
            "gridwidth": 2,
            "linecolor": "white",
            "showbackground": true,
            "ticks": "",
            "zerolinecolor": "white"
           },
           "zaxis": {
            "backgroundcolor": "#E5ECF6",
            "gridcolor": "white",
            "gridwidth": 2,
            "linecolor": "white",
            "showbackground": true,
            "ticks": "",
            "zerolinecolor": "white"
           }
          },
          "shapedefaults": {
           "line": {
            "color": "#2a3f5f"
           }
          },
          "ternary": {
           "aaxis": {
            "gridcolor": "white",
            "linecolor": "white",
            "ticks": ""
           },
           "baxis": {
            "gridcolor": "white",
            "linecolor": "white",
            "ticks": ""
           },
           "bgcolor": "#E5ECF6",
           "caxis": {
            "gridcolor": "white",
            "linecolor": "white",
            "ticks": ""
           }
          },
          "title": {
           "x": 0.05
          },
          "xaxis": {
           "automargin": true,
           "gridcolor": "white",
           "linecolor": "white",
           "ticks": "",
           "title": {
            "standoff": 15
           },
           "zerolinecolor": "white",
           "zerolinewidth": 2
          },
          "yaxis": {
           "automargin": true,
           "gridcolor": "white",
           "linecolor": "white",
           "ticks": "",
           "title": {
            "standoff": 15
           },
           "zerolinecolor": "white",
           "zerolinewidth": 2
          }
         }
        },
        "title": {
         "text": "Global Sales Distribution"
        },
        "xaxis": {
         "anchor": "y",
         "domain": [
          0,
          1
         ],
         "title": {
          "text": "Global Sales (Millions)"
         }
        },
        "yaxis": {
         "anchor": "x",
         "domain": [
          0,
          1
         ],
         "title": {
          "text": "count"
         }
        }
       }
      },
      "image/png": "[encoded data removed]"
     },
     "metadata": {},
     "output_type": "display_data"
    }
   ],
   "source": [
    "fig = px.histogram(df, x='Global_Sales', nbins=40, title=\"Global Sales Distribution\",\n",
    "                   labels={'Global_Sales': 'Global Sales (Millions)'})\n",
    "fig.show()"
   ]
  },
  {
   "cell_type": "markdown",
   "id": "0a71f5b0-ca3e-474c-b586-8c6d0b2f3da1",
   "metadata": {},
   "source": [
    "### Top 10 games by global sales"
   ]
  },
  {
   "cell_type": "code",
   "execution_count": 20,
   "id": "31303801-32ef-4fbe-9803-bf23e1cfb2e8",
   "metadata": {},
   "outputs": [
    {
     "data": {
      "application/vnd.plotly.v1+json": {
       "config": {
        "plotlyServerURL": "https://plot.ly"
       },
       "data": [
        {
         "hovertemplate": "Platform=Wii<br>Name=%{x}<br>Global Sales (Millions)=%{y}<extra></extra>",
         "legendgroup": "Wii",
         "marker": {
          "color": "#636efa",
          "pattern": {
           "shape": ""
          }
         },
         "name": "Wii",
         "orientation": "v",
         "showlegend": true,
         "textposition": "auto",
         "type": "bar",
         "x": [
          "Wii Sports",
          "Mario Kart Wii",
          "Wii Sports Resort",
          "Wii Play",
          "New Super Mario Bros. Wii"
         ],
         "xaxis": "x",
         "y": {
          "bdata": "j8L1KFyvVEApXI/C9ehBQAAAAAAAgEBAhetRuB4FPUAfhetRuJ48QA==",
          "dtype": "f8"
         },
         "yaxis": "y"
        },
        {
         "hovertemplate": "Platform=NES<br>Name=%{x}<br>Global Sales (Millions)=%{y}<extra></extra>",
         "legendgroup": "NES",
         "marker": {
          "color": "#EF553B",
          "pattern": {
           "shape": ""
          }
         },
         "name": "NES",
         "orientation": "v",
         "showlegend": true,
         "textposition": "auto",
         "type": "bar",
         "x": [
          "Super Mario Bros.",
          "Duck Hunt"
         ],
         "xaxis": "x",
         "y": {
          "bdata": "H4XrUbgeRECPwvUoXE88QA==",
          "dtype": "f8"
         },
         "yaxis": "y"
        },
        {
         "hovertemplate": "Platform=GB<br>Name=%{x}<br>Global Sales (Millions)=%{y}<extra></extra>",
         "legendgroup": "GB",
         "marker": {
          "color": "#00cc96",
          "pattern": {
           "shape": ""
          }
         },
         "name": "GB",
         "orientation": "v",
         "showlegend": true,
         "textposition": "auto",
         "type": "bar",
         "x": [
          "Pokemon Red/Pokemon Blue",
          "Tetris"
         ],
         "xaxis": "x",
         "y": {
          "bdata": "H4XrUbheP0DD9Shcj0I+QA==",
          "dtype": "f8"
         },
         "yaxis": "y"
        },
        {
         "hovertemplate": "Platform=DS<br>Name=%{x}<br>Global Sales (Millions)=%{y}<extra></extra>",
         "legendgroup": "DS",
         "marker": {
          "color": "#ab63fa",
          "pattern": {
           "shape": ""
          }
         },
         "name": "DS",
         "orientation": "v",
         "showlegend": true,
         "textposition": "auto",
         "type": "bar",
         "x": [
          "New Super Mario Bros."
         ],
         "xaxis": "x",
         "y": {
          "bdata": "w/UoXI8CPkA=",
          "dtype": "f8"
         },
         "yaxis": "y"
        }
       ],
       "layout": {
        "barmode": "relative",
        "legend": {
         "title": {
          "text": "Platform"
         },
         "tracegroupgap": 0
        },
        "template": {
         "data": {
          "bar": [
           {
            "error_x": {
             "color": "#2a3f5f"
            },
            "error_y": {
             "color": "#2a3f5f"
            },
            "marker": {
             "line": {
              "color": "#E5ECF6",
              "width": 0.5
             },
             "pattern": {
              "fillmode": "overlay",
              "size": 10,
              "solidity": 0.2
             }
            },
            "type": "bar"
           }
          ],
          "barpolar": [
           {
            "marker": {
             "line": {
              "color": "#E5ECF6",
              "width": 0.5
             },
             "pattern": {
              "fillmode": "overlay",
              "size": 10,
              "solidity": 0.2
             }
            },
            "type": "barpolar"
           }
          ],
          "carpet": [
           {
            "aaxis": {
             "endlinecolor": "#2a3f5f",
             "gridcolor": "white",
             "linecolor": "white",
             "minorgridcolor": "white",
             "startlinecolor": "#2a3f5f"
            },
            "baxis": {
             "endlinecolor": "#2a3f5f",
             "gridcolor": "white",
             "linecolor": "white",
             "minorgridcolor": "white",
             "startlinecolor": "#2a3f5f"
            },
            "type": "carpet"
           }
          ],
          "choropleth": [
           {
            "colorbar": {
             "outlinewidth": 0,
             "ticks": ""
            },
            "type": "choropleth"
           }
          ],
          "contour": [
           {
            "colorbar": {
             "outlinewidth": 0,
             "ticks": ""
            },
            "colorscale": [
             [
              0,
              "#0d0887"
             ],
             [
              0.1111111111111111,
              "#46039f"
             ],
             [
              0.2222222222222222,
              "#7201a8"
             ],
             [
              0.3333333333333333,
              "#9c179e"
             ],
             [
              0.4444444444444444,
              "#bd3786"
             ],
             [
              0.5555555555555556,
              "#d8576b"
             ],
             [
              0.6666666666666666,
              "#ed7953"
             ],
             [
              0.7777777777777778,
              "#fb9f3a"
             ],
             [
              0.8888888888888888,
              "#fdca26"
             ],
             [
              1,
              "#f0f921"
             ]
            ],
            "type": "contour"
           }
          ],
          "contourcarpet": [
           {
            "colorbar": {
             "outlinewidth": 0,
             "ticks": ""
            },
            "type": "contourcarpet"
           }
          ],
          "heatmap": [
           {
            "colorbar": {
             "outlinewidth": 0,
             "ticks": ""
            },
            "colorscale": [
             [
              0,
              "#0d0887"
             ],
             [
              0.1111111111111111,
              "#46039f"
             ],
             [
              0.2222222222222222,
              "#7201a8"
             ],
             [
              0.3333333333333333,
              "#9c179e"
             ],
             [
              0.4444444444444444,
              "#bd3786"
             ],
             [
              0.5555555555555556,
              "#d8576b"
             ],
             [
              0.6666666666666666,
              "#ed7953"
             ],
             [
              0.7777777777777778,
              "#fb9f3a"
             ],
             [
              0.8888888888888888,
              "#fdca26"
             ],
             [
              1,
              "#f0f921"
             ]
            ],
            "type": "heatmap"
           }
          ],
          "histogram": [
           {
            "marker": {
             "pattern": {
              "fillmode": "overlay",
              "size": 10,
              "solidity": 0.2
             }
            },
            "type": "histogram"
           }
          ],
          "histogram2d": [
           {
            "colorbar": {
             "outlinewidth": 0,
             "ticks": ""
            },
            "colorscale": [
             [
              0,
              "#0d0887"
             ],
             [
              0.1111111111111111,
              "#46039f"
             ],
             [
              0.2222222222222222,
              "#7201a8"
             ],
             [
              0.3333333333333333,
              "#9c179e"
             ],
             [
              0.4444444444444444,
              "#bd3786"
             ],
             [
              0.5555555555555556,
              "#d8576b"
             ],
             [
              0.6666666666666666,
              "#ed7953"
             ],
             [
              0.7777777777777778,
              "#fb9f3a"
             ],
             [
              0.8888888888888888,
              "#fdca26"
             ],
             [
              1,
              "#f0f921"
             ]
            ],
            "type": "histogram2d"
           }
          ],
          "histogram2dcontour": [
           {
            "colorbar": {
             "outlinewidth": 0,
             "ticks": ""
            },
            "colorscale": [
             [
              0,
              "#0d0887"
             ],
             [
              0.1111111111111111,
              "#46039f"
             ],
             [
              0.2222222222222222,
              "#7201a8"
             ],
             [
              0.3333333333333333,
              "#9c179e"
             ],
             [
              0.4444444444444444,
              "#bd3786"
             ],
             [
              0.5555555555555556,
              "#d8576b"
             ],
             [
              0.6666666666666666,
              "#ed7953"
             ],
             [
              0.7777777777777778,
              "#fb9f3a"
             ],
             [
              0.8888888888888888,
              "#fdca26"
             ],
             [
              1,
              "#f0f921"
             ]
            ],
            "type": "histogram2dcontour"
           }
          ],
          "mesh3d": [
           {
            "colorbar": {
             "outlinewidth": 0,
             "ticks": ""
            },
            "type": "mesh3d"
           }
          ],
          "parcoords": [
           {
            "line": {
             "colorbar": {
              "outlinewidth": 0,
              "ticks": ""
             }
            },
            "type": "parcoords"
           }
          ],
          "pie": [
           {
            "automargin": true,
            "type": "pie"
           }
          ],
          "scatter": [
           {
            "fillpattern": {
             "fillmode": "overlay",
             "size": 10,
             "solidity": 0.2
            },
            "type": "scatter"
           }
          ],
          "scatter3d": [
           {
            "line": {
             "colorbar": {
              "outlinewidth": 0,
              "ticks": ""
             }
            },
            "marker": {
             "colorbar": {
              "outlinewidth": 0,
              "ticks": ""
             }
            },
            "type": "scatter3d"
           }
          ],
          "scattercarpet": [
           {
            "marker": {
             "colorbar": {
              "outlinewidth": 0,
              "ticks": ""
             }
            },
            "type": "scattercarpet"
           }
          ],
          "scattergeo": [
           {
            "marker": {
             "colorbar": {
              "outlinewidth": 0,
              "ticks": ""
             }
            },
            "type": "scattergeo"
           }
          ],
          "scattergl": [
           {
            "marker": {
             "colorbar": {
              "outlinewidth": 0,
              "ticks": ""
             }
            },
            "type": "scattergl"
           }
          ],
          "scattermap": [
           {
            "marker": {
             "colorbar": {
              "outlinewidth": 0,
              "ticks": ""
             }
            },
            "type": "scattermap"
           }
          ],
          "scattermapbox": [
           {
            "marker": {
             "colorbar": {
              "outlinewidth": 0,
              "ticks": ""
             }
            },
            "type": "scattermapbox"
           }
          ],
          "scatterpolar": [
           {
            "marker": {
             "colorbar": {
              "outlinewidth": 0,
              "ticks": ""
             }
            },
            "type": "scatterpolar"
           }
          ],
          "scatterpolargl": [
           {
            "marker": {
             "colorbar": {
              "outlinewidth": 0,
              "ticks": ""
             }
            },
            "type": "scatterpolargl"
           }
          ],
          "scatterternary": [
           {
            "marker": {
             "colorbar": {
              "outlinewidth": 0,
              "ticks": ""
             }
            },
            "type": "scatterternary"
           }
          ],
          "surface": [
           {
            "colorbar": {
             "outlinewidth": 0,
             "ticks": ""
            },
            "colorscale": [
             [
              0,
              "#0d0887"
             ],
             [
              0.1111111111111111,
              "#46039f"
             ],
             [
              0.2222222222222222,
              "#7201a8"
             ],
             [
              0.3333333333333333,
              "#9c179e"
             ],
             [
              0.4444444444444444,
              "#bd3786"
             ],
             [
              0.5555555555555556,
              "#d8576b"
             ],
             [
              0.6666666666666666,
              "#ed7953"
             ],
             [
              0.7777777777777778,
              "#fb9f3a"
             ],
             [
              0.8888888888888888,
              "#fdca26"
             ],
             [
              1,
              "#f0f921"
             ]
            ],
            "type": "surface"
           }
          ],
          "table": [
           {
            "cells": {
             "fill": {
              "color": "#EBF0F8"
             },
             "line": {
              "color": "white"
             }
            },
            "header": {
             "fill": {
              "color": "#C8D4E3"
             },
             "line": {
              "color": "white"
             }
            },
            "type": "table"
           }
          ]
         },
         "layout": {
          "annotationdefaults": {
           "arrowcolor": "#2a3f5f",
           "arrowhead": 0,
           "arrowwidth": 1
          },
          "autotypenumbers": "strict",
          "coloraxis": {
           "colorbar": {
            "outlinewidth": 0,
            "ticks": ""
           }
          },
          "colorscale": {
           "diverging": [
            [
             0,
             "#8e0152"
            ],
            [
             0.1,
             "#c51b7d"
            ],
            [
             0.2,
             "#de77ae"
            ],
            [
             0.3,
             "#f1b6da"
            ],
            [
             0.4,
             "#fde0ef"
            ],
            [
             0.5,
             "#f7f7f7"
            ],
            [
             0.6,
             "#e6f5d0"
            ],
            [
             0.7,
             "#b8e186"
            ],
            [
             0.8,
             "#7fbc41"
            ],
            [
             0.9,
             "#4d9221"
            ],
            [
             1,
             "#276419"
            ]
           ],
           "sequential": [
            [
             0,
             "#0d0887"
            ],
            [
             0.1111111111111111,
             "#46039f"
            ],
            [
             0.2222222222222222,
             "#7201a8"
            ],
            [
             0.3333333333333333,
             "#9c179e"
            ],
            [
             0.4444444444444444,
             "#bd3786"
            ],
            [
             0.5555555555555556,
             "#d8576b"
            ],
            [
             0.6666666666666666,
             "#ed7953"
            ],
            [
             0.7777777777777778,
             "#fb9f3a"
            ],
            [
             0.8888888888888888,
             "#fdca26"
            ],
            [
             1,
             "#f0f921"
            ]
           ],
           "sequentialminus": [
            [
             0,
             "#0d0887"
            ],
            [
             0.1111111111111111,
             "#46039f"
            ],
            [
             0.2222222222222222,
             "#7201a8"
            ],
            [
             0.3333333333333333,
             "#9c179e"
            ],
            [
             0.4444444444444444,
             "#bd3786"
            ],
            [
             0.5555555555555556,
             "#d8576b"
            ],
            [
             0.6666666666666666,
             "#ed7953"
            ],
            [
             0.7777777777777778,
             "#fb9f3a"
            ],
            [
             0.8888888888888888,
             "#fdca26"
            ],
            [
             1,
             "#f0f921"
            ]
           ]
          },
          "colorway": [
           "#636efa",
           "#EF553B",
           "#00cc96",
           "#ab63fa",
           "#FFA15A",
           "#19d3f3",
           "#FF6692",
           "#B6E880",
           "#FF97FF",
           "#FECB52"
          ],
          "font": {
           "color": "#2a3f5f"
          },
          "geo": {
           "bgcolor": "white",
           "lakecolor": "white",
           "landcolor": "#E5ECF6",
           "showlakes": true,
           "showland": true,
           "subunitcolor": "white"
          },
          "hoverlabel": {
           "align": "left"
          },
          "hovermode": "closest",
          "mapbox": {
           "style": "light"
          },
          "paper_bgcolor": "white",
          "plot_bgcolor": "#E5ECF6",
          "polar": {
           "angularaxis": {
            "gridcolor": "white",
            "linecolor": "white",
            "ticks": ""
           },
           "bgcolor": "#E5ECF6",
           "radialaxis": {
            "gridcolor": "white",
            "linecolor": "white",
            "ticks": ""
           }
          },
          "scene": {
           "xaxis": {
            "backgroundcolor": "#E5ECF6",
            "gridcolor": "white",
            "gridwidth": 2,
            "linecolor": "white",
            "showbackground": true,
            "ticks": "",
            "zerolinecolor": "white"
           },
           "yaxis": {
            "backgroundcolor": "#E5ECF6",
            "gridcolor": "white",
            "gridwidth": 2,
            "linecolor": "white",
            "showbackground": true,
            "ticks": "",
            "zerolinecolor": "white"
           },
           "zaxis": {
            "backgroundcolor": "#E5ECF6",
            "gridcolor": "white",
            "gridwidth": 2,
            "linecolor": "white",
            "showbackground": true,
            "ticks": "",
            "zerolinecolor": "white"
           }
          },
          "shapedefaults": {
           "line": {
            "color": "#2a3f5f"
           }
          },
          "ternary": {
           "aaxis": {
            "gridcolor": "white",
            "linecolor": "white",
            "ticks": ""
           },
           "baxis": {
            "gridcolor": "white",
            "linecolor": "white",
            "ticks": ""
           },
           "bgcolor": "#E5ECF6",
           "caxis": {
            "gridcolor": "white",
            "linecolor": "white",
            "ticks": ""
           }
          },
          "title": {
           "x": 0.05
          },
          "xaxis": {
           "automargin": true,
           "gridcolor": "white",
           "linecolor": "white",
           "ticks": "",
           "title": {
            "standoff": 15
           },
           "zerolinecolor": "white",
           "zerolinewidth": 2
          },
          "yaxis": {
           "automargin": true,
           "gridcolor": "white",
           "linecolor": "white",
           "ticks": "",
           "title": {
            "standoff": 15
           },
           "zerolinecolor": "white",
           "zerolinewidth": 2
          }
         }
        },
        "title": {
         "text": "Top 10 Best-Selling Games"
        },
        "xaxis": {
         "anchor": "y",
         "domain": [
          0,
          1
         ],
         "title": {
          "text": "Name"
         }
        },
        "yaxis": {
         "anchor": "x",
         "domain": [
          0,
          1
         ],
         "title": {
          "text": "Global Sales (Millions)"
         }
        }
       }
      },
      "image/png": "[encoded data removed]"
     },
     "metadata": {},
     "output_type": "display_data"
    }
   ],
   "source": [
    "top10 = df.sort_values(by='Global_Sales', ascending=False).head(10)\n",
    "\n",
    "fig = px.bar(top10, x='Name', y='Global_Sales', color='Platform',\n",
    "             title=\"Top 10 Best-Selling Games\", labels={'Global_Sales': 'Global Sales (Millions)'})\n",
    "fig.show()\n"
   ]
  },
  {
   "cell_type": "markdown",
   "id": "5bb862a5-8671-4521-8fe9-45bd82e2d6a1",
   "metadata": {},
   "source": [
    "### Region-wise genre sales"
   ]
  },
  {
   "cell_type": "code",
   "execution_count": 21,
   "id": "54ef979d-870e-4a8f-90fa-756da153bd71",
   "metadata": {},
   "outputs": [
    {
     "data": {
      "application/vnd.plotly.v1+json": {
       "config": {
        "plotlyServerURL": "https://plot.ly"
       },
       "data": [
        {
         "alignmentgroup": "True",
         "hovertemplate": "Region=NA_Sales<br>Genre=%{x}<br>Sales=%{y}<extra></extra>",
         "legendgroup": "NA_Sales",
         "marker": {
          "color": "#636efa",
          "pattern": {
           "shape": ""
          }
         },
         "name": "NA_Sales",
         "offsetgroup": "NA_Sales",
         "orientation": "v",
         "showlegend": true,
         "textposition": "auto",
         "type": "bar",
         "x": [
          "Action",
          "Adventure",
          "Fighting",
          "Misc",
          "Platform",
          "Puzzle",
          "Racing",
          "Role-Playing",
          "Shooter",
          "Simulation",
          "Sports",
          "Strategy"
         ],
         "xaxis": "x",
         "y": {
          "bdata": "cT0K16Nui0AzMzMzM3NaQHsUrkfh8mtApHA9CtejeUDNzMzMzPB7QFK4HoXr8V5AH4XrUbh2dkAUrkfhenR0QM3MzMzMNIJAUrgehevpZkDNzMzMzFqFQM3MzMzMLFFA",
          "dtype": "f8"
         },
         "yaxis": "y"
        },
        {
         "alignmentgroup": "True",
         "hovertemplate": "Region=EU_Sales<br>Genre=%{x}<br>Sales=%{y}<extra></extra>",
         "legendgroup": "EU_Sales",
         "marker": {
          "color": "#EF553B",
          "pattern": {
           "shape": ""
          }
         },
         "name": "EU_Sales",
         "offsetgroup": "EU_Sales",
         "orientation": "v",
         "showlegend": true,
         "textposition": "auto",
         "type": "bar",
         "x": [
          "Action",
          "Adventure",
          "Fighting",
          "Misc",
          "Platform",
          "Puzzle",
          "Racing",
          "Role-Playing",
          "Shooter",
          "Simulation",
          "Sports",
          "Strategy"
         ],
         "xaxis": "x",
         "y": {
          "bdata": "AAAAAABogEC4HoXrUQhQQBWuR+F6VFlAj8L1KFz/akBcj8L1KDRpQKRwPQrXY0lAFa5H4XrMbUBSuB6F64FnQLgehetRlHNAuB6F61FYXECamZmZmY13QOxRuB6Fq0ZA",
          "dtype": "f8"
         },
         "yaxis": "y"
        },
        {
         "alignmentgroup": "True",
         "hovertemplate": "Region=JP_Sales<br>Genre=%{x}<br>Sales=%{y}<extra></extra>",
         "legendgroup": "JP_Sales",
         "marker": {
          "color": "#00cc96",
          "pattern": {
           "shape": ""
          }
         },
         "name": "JP_Sales",
         "offsetgroup": "JP_Sales",
         "orientation": "v",
         "showlegend": true,
         "textposition": "auto",
         "type": "bar",
         "x": [
          "Action",
          "Adventure",
          "Fighting",
          "Misc",
          "Platform",
          "Puzzle",
          "Racing",
          "Role-Playing",
          "Shooter",
          "Simulation",
          "Sports",
          "Strategy"
         ],
         "xaxis": "x",
         "y": {
          "bdata": "ZmZmZmb+Y0ApXI/C9QhKQGdmZmZm1lVAcT0K16PwWkBxPQrXo1hgQEjhehSup0xAuB6F61FYTEApXI/C9QR2QKRwPQrXI0NAmpmZmZnZT0CkcD0K1+tgQHsUrkfhukhA",
          "dtype": "f8"
         },
         "yaxis": "y"
        },
        {
         "alignmentgroup": "True",
         "hovertemplate": "Region=Other_Sales<br>Genre=%{x}<br>Sales=%{y}<extra></extra>",
         "legendgroup": "Other_Sales",
         "marker": {
          "color": "#ab63fa",
          "pattern": {
           "shape": ""
          }
         },
         "name": "Other_Sales",
         "offsetgroup": "Other_Sales",
         "orientation": "v",
         "showlegend": true,
         "textposition": "auto",
         "type": "bar",
         "x": [
          "Action",
          "Adventure",
          "Fighting",
          "Misc",
          "Platform",
          "Puzzle",
          "Racing",
          "Role-Playing",
          "Shooter",
          "Simulation",
          "Sports",
          "Strategy"
         ],
         "xaxis": "x",
         "y": {
          "bdata": "XI/C9ShsZ0CPwvUoXM8wQNejcD0KV0JAFa5H4XrUUkDsUbgehctJQJqZmZmZGSlA4XoUrkdRU0CuR+F6FM5NQFyPwvUorFlAhetRuB6FP0DXo3A9Ct9gQLgehetRuCZA",
          "dtype": "f8"
         },
         "yaxis": "y"
        }
       ],
       "layout": {
        "barmode": "group",
        "legend": {
         "title": {
          "text": "Region"
         },
         "tracegroupgap": 0
        },
        "template": {
         "data": {
          "bar": [
           {
            "error_x": {
             "color": "#2a3f5f"
            },
            "error_y": {
             "color": "#2a3f5f"
            },
            "marker": {
             "line": {
              "color": "#E5ECF6",
              "width": 0.5
             },
             "pattern": {
              "fillmode": "overlay",
              "size": 10,
              "solidity": 0.2
             }
            },
            "type": "bar"
           }
          ],
          "barpolar": [
           {
            "marker": {
             "line": {
              "color": "#E5ECF6",
              "width": 0.5
             },
             "pattern": {
              "fillmode": "overlay",
              "size": 10,
              "solidity": 0.2
             }
            },
            "type": "barpolar"
           }
          ],
          "carpet": [
           {
            "aaxis": {
             "endlinecolor": "#2a3f5f",
             "gridcolor": "white",
             "linecolor": "white",
             "minorgridcolor": "white",
             "startlinecolor": "#2a3f5f"
            },
            "baxis": {
             "endlinecolor": "#2a3f5f",
             "gridcolor": "white",
             "linecolor": "white",
             "minorgridcolor": "white",
             "startlinecolor": "#2a3f5f"
            },
            "type": "carpet"
           }
          ],
          "choropleth": [
           {
            "colorbar": {
             "outlinewidth": 0,
             "ticks": ""
            },
            "type": "choropleth"
           }
          ],
          "contour": [
           {
            "colorbar": {
             "outlinewidth": 0,
             "ticks": ""
            },
            "colorscale": [
             [
              0,
              "#0d0887"
             ],
             [
              0.1111111111111111,
              "#46039f"
             ],
             [
              0.2222222222222222,
              "#7201a8"
             ],
             [
              0.3333333333333333,
              "#9c179e"
             ],
             [
              0.4444444444444444,
              "#bd3786"
             ],
             [
              0.5555555555555556,
              "#d8576b"
             ],
             [
              0.6666666666666666,
              "#ed7953"
             ],
             [
              0.7777777777777778,
              "#fb9f3a"
             ],
             [
              0.8888888888888888,
              "#fdca26"
             ],
             [
              1,
              "#f0f921"
             ]
            ],
            "type": "contour"
           }
          ],
          "contourcarpet": [
           {
            "colorbar": {
             "outlinewidth": 0,
             "ticks": ""
            },
            "type": "contourcarpet"
           }
          ],
          "heatmap": [
           {
            "colorbar": {
             "outlinewidth": 0,
             "ticks": ""
            },
            "colorscale": [
             [
              0,
              "#0d0887"
             ],
             [
              0.1111111111111111,
              "#46039f"
             ],
             [
              0.2222222222222222,
              "#7201a8"
             ],
             [
              0.3333333333333333,
              "#9c179e"
             ],
             [
              0.4444444444444444,
              "#bd3786"
             ],
             [
              0.5555555555555556,
              "#d8576b"
             ],
             [
              0.6666666666666666,
              "#ed7953"
             ],
             [
              0.7777777777777778,
              "#fb9f3a"
             ],
             [
              0.8888888888888888,
              "#fdca26"
             ],
             [
              1,
              "#f0f921"
             ]
            ],
            "type": "heatmap"
           }
          ],
          "histogram": [
           {
            "marker": {
             "pattern": {
              "fillmode": "overlay",
              "size": 10,
              "solidity": 0.2
             }
            },
            "type": "histogram"
           }
          ],
          "histogram2d": [
           {
            "colorbar": {
             "outlinewidth": 0,
             "ticks": ""
            },
            "colorscale": [
             [
              0,
              "#0d0887"
             ],
             [
              0.1111111111111111,
              "#46039f"
             ],
             [
              0.2222222222222222,
              "#7201a8"
             ],
             [
              0.3333333333333333,
              "#9c179e"
             ],
             [
              0.4444444444444444,
              "#bd3786"
             ],
             [
              0.5555555555555556,
              "#d8576b"
             ],
             [
              0.6666666666666666,
              "#ed7953"
             ],
             [
              0.7777777777777778,
              "#fb9f3a"
             ],
             [
              0.8888888888888888,
              "#fdca26"
             ],
             [
              1,
              "#f0f921"
             ]
            ],
            "type": "histogram2d"
           }
          ],
          "histogram2dcontour": [
           {
            "colorbar": {
             "outlinewidth": 0,
             "ticks": ""
            },
            "colorscale": [
             [
              0,
              "#0d0887"
             ],
             [
              0.1111111111111111,
              "#46039f"
             ],
             [
              0.2222222222222222,
              "#7201a8"
             ],
             [
              0.3333333333333333,
              "#9c179e"
             ],
             [
              0.4444444444444444,
              "#bd3786"
             ],
             [
              0.5555555555555556,
              "#d8576b"
             ],
             [
              0.6666666666666666,
              "#ed7953"
             ],
             [
              0.7777777777777778,
              "#fb9f3a"
             ],
             [
              0.8888888888888888,
              "#fdca26"
             ],
             [
              1,
              "#f0f921"
             ]
            ],
            "type": "histogram2dcontour"
           }
          ],
          "mesh3d": [
           {
            "colorbar": {
             "outlinewidth": 0,
             "ticks": ""
            },
            "type": "mesh3d"
           }
          ],
          "parcoords": [
           {
            "line": {
             "colorbar": {
              "outlinewidth": 0,
              "ticks": ""
             }
            },
            "type": "parcoords"
           }
          ],
          "pie": [
           {
            "automargin": true,
            "type": "pie"
           }
          ],
          "scatter": [
           {
            "fillpattern": {
             "fillmode": "overlay",
             "size": 10,
             "solidity": 0.2
            },
            "type": "scatter"
           }
          ],
          "scatter3d": [
           {
            "line": {
             "colorbar": {
              "outlinewidth": 0,
              "ticks": ""
             }
            },
            "marker": {
             "colorbar": {
              "outlinewidth": 0,
              "ticks": ""
             }
            },
            "type": "scatter3d"
           }
          ],
          "scattercarpet": [
           {
            "marker": {
             "colorbar": {
              "outlinewidth": 0,
              "ticks": ""
             }
            },
            "type": "scattercarpet"
           }
          ],
          "scattergeo": [
           {
            "marker": {
             "colorbar": {
              "outlinewidth": 0,
              "ticks": ""
             }
            },
            "type": "scattergeo"
           }
          ],
          "scattergl": [
           {
            "marker": {
             "colorbar": {
              "outlinewidth": 0,
              "ticks": ""
             }
            },
            "type": "scattergl"
           }
          ],
          "scattermap": [
           {
            "marker": {
             "colorbar": {
              "outlinewidth": 0,
              "ticks": ""
             }
            },
            "type": "scattermap"
           }
          ],
          "scattermapbox": [
           {
            "marker": {
             "colorbar": {
              "outlinewidth": 0,
              "ticks": ""
             }
            },
            "type": "scattermapbox"
           }
          ],
          "scatterpolar": [
           {
            "marker": {
             "colorbar": {
              "outlinewidth": 0,
              "ticks": ""
             }
            },
            "type": "scatterpolar"
           }
          ],
          "scatterpolargl": [
           {
            "marker": {
             "colorbar": {
              "outlinewidth": 0,
              "ticks": ""
             }
            },
            "type": "scatterpolargl"
           }
          ],
          "scatterternary": [
           {
            "marker": {
             "colorbar": {
              "outlinewidth": 0,
              "ticks": ""
             }
            },
            "type": "scatterternary"
           }
          ],
          "surface": [
           {
            "colorbar": {
             "outlinewidth": 0,
             "ticks": ""
            },
            "colorscale": [
             [
              0,
              "#0d0887"
             ],
             [
              0.1111111111111111,
              "#46039f"
             ],
             [
              0.2222222222222222,
              "#7201a8"
             ],
             [
              0.3333333333333333,
              "#9c179e"
             ],
             [
              0.4444444444444444,
              "#bd3786"
             ],
             [
              0.5555555555555556,
              "#d8576b"
             ],
             [
              0.6666666666666666,
              "#ed7953"
             ],
             [
              0.7777777777777778,
              "#fb9f3a"
             ],
             [
              0.8888888888888888,
              "#fdca26"
             ],
             [
              1,
              "#f0f921"
             ]
            ],
            "type": "surface"
           }
          ],
          "table": [
           {
            "cells": {
             "fill": {
              "color": "#EBF0F8"
             },
             "line": {
              "color": "white"
             }
            },
            "header": {
             "fill": {
              "color": "#C8D4E3"
             },
             "line": {
              "color": "white"
             }
            },
            "type": "table"
           }
          ]
         },
         "layout": {
          "annotationdefaults": {
           "arrowcolor": "#2a3f5f",
           "arrowhead": 0,
           "arrowwidth": 1
          },
          "autotypenumbers": "strict",
          "coloraxis": {
           "colorbar": {
            "outlinewidth": 0,
            "ticks": ""
           }
          },
          "colorscale": {
           "diverging": [
            [
             0,
             "#8e0152"
            ],
            [
             0.1,
             "#c51b7d"
            ],
            [
             0.2,
             "#de77ae"
            ],
            [
             0.3,
             "#f1b6da"
            ],
            [
             0.4,
             "#fde0ef"
            ],
            [
             0.5,
             "#f7f7f7"
            ],
            [
             0.6,
             "#e6f5d0"
            ],
            [
             0.7,
             "#b8e186"
            ],
            [
             0.8,
             "#7fbc41"
            ],
            [
             0.9,
             "#4d9221"
            ],
            [
             1,
             "#276419"
            ]
           ],
           "sequential": [
            [
             0,
             "#0d0887"
            ],
            [
             0.1111111111111111,
             "#46039f"
            ],
            [
             0.2222222222222222,
             "#7201a8"
            ],
            [
             0.3333333333333333,
             "#9c179e"
            ],
            [
             0.4444444444444444,
             "#bd3786"
            ],
            [
             0.5555555555555556,
             "#d8576b"
            ],
            [
             0.6666666666666666,
             "#ed7953"
            ],
            [
             0.7777777777777778,
             "#fb9f3a"
            ],
            [
             0.8888888888888888,
             "#fdca26"
            ],
            [
             1,
             "#f0f921"
            ]
           ],
           "sequentialminus": [
            [
             0,
             "#0d0887"
            ],
            [
             0.1111111111111111,
             "#46039f"
            ],
            [
             0.2222222222222222,
             "#7201a8"
            ],
            [
             0.3333333333333333,
             "#9c179e"
            ],
            [
             0.4444444444444444,
             "#bd3786"
            ],
            [
             0.5555555555555556,
             "#d8576b"
            ],
            [
             0.6666666666666666,
             "#ed7953"
            ],
            [
             0.7777777777777778,
             "#fb9f3a"
            ],
            [
             0.8888888888888888,
             "#fdca26"
            ],
            [
             1,
             "#f0f921"
            ]
           ]
          },
          "colorway": [
           "#636efa",
           "#EF553B",
           "#00cc96",
           "#ab63fa",
           "#FFA15A",
           "#19d3f3",
           "#FF6692",
           "#B6E880",
           "#FF97FF",
           "#FECB52"
          ],
          "font": {
           "color": "#2a3f5f"
          },
          "geo": {
           "bgcolor": "white",
           "lakecolor": "white",
           "landcolor": "#E5ECF6",
           "showlakes": true,
           "showland": true,
           "subunitcolor": "white"
          },
          "hoverlabel": {
           "align": "left"
          },
          "hovermode": "closest",
          "mapbox": {
           "style": "light"
          },
          "paper_bgcolor": "white",
          "plot_bgcolor": "#E5ECF6",
          "polar": {
           "angularaxis": {
            "gridcolor": "white",
            "linecolor": "white",
            "ticks": ""
           },
           "bgcolor": "#E5ECF6",
           "radialaxis": {
            "gridcolor": "white",
            "linecolor": "white",
            "ticks": ""
           }
          },
          "scene": {
           "xaxis": {
            "backgroundcolor": "#E5ECF6",
            "gridcolor": "white",
            "gridwidth": 2,
            "linecolor": "white",
            "showbackground": true,
            "ticks": "",
            "zerolinecolor": "white"
           },
           "yaxis": {
            "backgroundcolor": "#E5ECF6",
            "gridcolor": "white",
            "gridwidth": 2,
            "linecolor": "white",
            "showbackground": true,
            "ticks": "",
            "zerolinecolor": "white"
           },
           "zaxis": {
            "backgroundcolor": "#E5ECF6",
            "gridcolor": "white",
            "gridwidth": 2,
            "linecolor": "white",
            "showbackground": true,
            "ticks": "",
            "zerolinecolor": "white"
           }
          },
          "shapedefaults": {
           "line": {
            "color": "#2a3f5f"
           }
          },
          "ternary": {
           "aaxis": {
            "gridcolor": "white",
            "linecolor": "white",
            "ticks": ""
           },
           "baxis": {
            "gridcolor": "white",
            "linecolor": "white",
            "ticks": ""
           },
           "bgcolor": "#E5ECF6",
           "caxis": {
            "gridcolor": "white",
            "linecolor": "white",
            "ticks": ""
           }
          },
          "title": {
           "x": 0.05
          },
          "xaxis": {
           "automargin": true,
           "gridcolor": "white",
           "linecolor": "white",
           "ticks": "",
           "title": {
            "standoff": 15
           },
           "zerolinecolor": "white",
           "zerolinewidth": 2
          },
          "yaxis": {
           "automargin": true,
           "gridcolor": "white",
           "linecolor": "white",
           "ticks": "",
           "title": {
            "standoff": 15
           },
           "zerolinecolor": "white",
           "zerolinewidth": 2
          }
         }
        },
        "title": {
         "text": "Genre Sales Comparison Across Regions"
        },
        "xaxis": {
         "anchor": "y",
         "domain": [
          0,
          1
         ],
         "title": {
          "text": "Genre"
         }
        },
        "yaxis": {
         "anchor": "x",
         "domain": [
          0,
          1
         ],
         "title": {
          "text": "Sales"
         }
        }
       }
      },
      "image/png": "[encoded data removed]"
     },
     "metadata": {},
     "output_type": "display_data"
    }
   ],
   "source": [
    "genre_region = df.groupby('Genre')[['NA_Sales', 'EU_Sales', 'JP_Sales', 'Other_Sales']].sum().reset_index()\n",
    "genre_region = genre_region.melt(id_vars='Genre', var_name='Region', value_name='Sales')\n",
    "\n",
    "fig = px.bar(genre_region, x='Genre', y='Sales', color='Region', barmode='group',\n",
    "             title=\"Genre Sales Comparison Across Regions\")\n",
    "fig.show()"
   ]
  },
  {
   "cell_type": "markdown",
   "id": "3f8daf3d-e70a-4d74-9567-9f060b419fcf",
   "metadata": {},
   "source": [
    "### Game Releases Over the Years "
   ]
  },
  {
   "cell_type": "code",
   "execution_count": 22,
   "id": "f59d4b34-4c19-456f-b257-0ea9f6038a7c",
   "metadata": {},
   "outputs": [
    {
     "data": {
      "image/png": "[encoded data removed]",
      "text/plain": [
       "<Figure size 1200x500 with 1 Axes>"
      ]
     },
     "metadata": {},
     "output_type": "display_data"
    }
   ],
   "source": [
    "games_per_year = df['Year'].value_counts().sort_index()\n",
    "\n",
    "plt.figure(figsize=(12, 5))\n",
    "sns.lineplot(x=games_per_year.index, y=games_per_year.values, marker='o', color='crimson')\n",
    "plt.title(\"Number of Games Released Per Year\")\n",
    "plt.xlabel(\"Year\")\n",
    "plt.ylabel(\"Number of Games Released\")\n",
    "plt.show()\n"
   ]
  },
  {
   "cell_type": "markdown",
   "id": "8b5205b7-bb4d-471a-8d43-6e3d6bd7ebcc",
   "metadata": {},
   "source": [
    "### Top 10 Publishers by Global Sales"
   ]
  },
  {
   "cell_type": "code",
   "execution_count": 23,
   "id": "521f00b9-0fea-4282-be88-c9a188e274b6",
   "metadata": {},
   "outputs": [
    {
     "data": {
      "application/vnd.plotly.v1+json": {
       "config": {
        "plotlyServerURL": "https://plot.ly"
       },
       "data": [
        {
         "hovertemplate": "Publisher=%{y}<br>Global Sales (Millions)=%{x}<extra></extra>",
         "legendgroup": "Nintendo",
         "marker": {
          "color": "#636efa",
          "pattern": {
           "shape": ""
          }
         },
         "name": "Nintendo",
         "orientation": "h",
         "showlegend": true,
         "textposition": "auto",
         "type": "bar",
         "x": {
          "bdata": "CtejcD3qm0A=",
          "dtype": "f8"
         },
         "xaxis": "x",
         "y": [
          "Nintendo"
         ],
         "yaxis": "y"
        },
        {
         "hovertemplate": "Publisher=%{y}<br>Global Sales (Millions)=%{x}<extra></extra>",
         "legendgroup": "Electronic Arts",
         "marker": {
          "color": "#EF553B",
          "pattern": {
           "shape": ""
          }
         },
         "name": "Electronic Arts",
         "orientation": "h",
         "showlegend": true,
         "textposition": "auto",
         "type": "bar",
         "x": {
          "bdata": "zczMzMyUkUA=",
          "dtype": "f8"
         },
         "xaxis": "x",
         "y": [
          "Electronic Arts"
         ],
         "yaxis": "y"
        },
        {
         "hovertemplate": "Publisher=%{y}<br>Global Sales (Millions)=%{x}<extra></extra>",
         "legendgroup": "Activision",
         "marker": {
          "color": "#00cc96",
          "pattern": {
           "shape": ""
          }
         },
         "name": "Activision",
         "orientation": "h",
         "showlegend": true,
         "textposition": "auto",
         "type": "bar",
         "x": {
          "bdata": "SOF6FK67hkA=",
          "dtype": "f8"
         },
         "xaxis": "x",
         "y": [
          "Activision"
         ],
         "yaxis": "y"
        },
        {
         "hovertemplate": "Publisher=%{y}<br>Global Sales (Millions)=%{x}<extra></extra>",
         "legendgroup": "Sony Computer Entertainment",
         "marker": {
          "color": "#ab63fa",
          "pattern": {
           "shape": ""
          }
         },
         "name": "Sony Computer Entertainment",
         "orientation": "h",
         "showlegend": true,
         "textposition": "auto",
         "type": "bar",
         "x": {
          "bdata": "AAAAAAD8gkA=",
          "dtype": "f8"
         },
         "xaxis": "x",
         "y": [
          "Sony Computer Entertainment"
         ],
         "yaxis": "y"
        },
        {
         "hovertemplate": "Publisher=%{y}<br>Global Sales (Millions)=%{x}<extra></extra>",
         "legendgroup": "Ubisoft",
         "marker": {
          "color": "#FFA15A",
          "pattern": {
           "shape": ""
          }
         },
         "name": "Ubisoft",
         "orientation": "h",
         "showlegend": true,
         "textposition": "auto",
         "type": "bar",
         "x": {
          "bdata": "7FG4HoWrfUA=",
          "dtype": "f8"
         },
         "xaxis": "x",
         "y": [
          "Ubisoft"
         ],
         "yaxis": "y"
        },
        {
         "hovertemplate": "Publisher=%{y}<br>Global Sales (Millions)=%{x}<extra></extra>",
         "legendgroup": "Take-Two Interactive",
         "marker": {
          "color": "#19d3f3",
          "pattern": {
           "shape": ""
          }
         },
         "name": "Take-Two Interactive",
         "orientation": "h",
         "showlegend": true,
         "textposition": "auto",
         "type": "bar",
         "x": {
          "bdata": "cT0K16P4eEA=",
          "dtype": "f8"
         },
         "xaxis": "x",
         "y": [
          "Take-Two Interactive"
         ],
         "yaxis": "y"
        },
        {
         "hovertemplate": "Publisher=%{y}<br>Global Sales (Millions)=%{x}<extra></extra>",
         "legendgroup": "THQ",
         "marker": {
          "color": "#FF6692",
          "pattern": {
           "shape": ""
          }
         },
         "name": "THQ",
         "orientation": "h",
         "showlegend": true,
         "textposition": "auto",
         "type": "bar",
         "x": {
          "bdata": "uB6F61FMdUA=",
          "dtype": "f8"
         },
         "xaxis": "x",
         "y": [
          "THQ"
         ],
         "yaxis": "y"
        },
        {
         "hovertemplate": "Publisher=%{y}<br>Global Sales (Millions)=%{x}<extra></extra>",
         "legendgroup": "Konami Digital Entertainment",
         "marker": {
          "color": "#B6E880",
          "pattern": {
           "shape": ""
          }
         },
         "name": "Konami Digital Entertainment",
         "orientation": "h",
         "showlegend": true,
         "textposition": "auto",
         "type": "bar",
         "x": {
          "bdata": "CtejcD26cUA=",
          "dtype": "f8"
         },
         "xaxis": "x",
         "y": [
          "Konami Digital Entertainment"
         ],
         "yaxis": "y"
        },
        {
         "hovertemplate": "Publisher=%{y}<br>Global Sales (Millions)=%{x}<extra></extra>",
         "legendgroup": "Sega",
         "marker": {
          "color": "#FF97FF",
          "pattern": {
           "shape": ""
          }
         },
         "name": "Sega",
         "orientation": "h",
         "showlegend": true,
         "textposition": "auto",
         "type": "bar",
         "x": {
          "bdata": "pHA9CtcPcUA=",
          "dtype": "f8"
         },
         "xaxis": "x",
         "y": [
          "Sega"
         ],
         "yaxis": "y"
        },
        {
         "hovertemplate": "Publisher=%{y}<br>Global Sales (Millions)=%{x}<extra></extra>",
         "legendgroup": "Namco Bandai Games",
         "marker": {
          "color": "#FECB52",
          "pattern": {
           "shape": ""
          }
         },
         "name": "Namco Bandai Games",
         "orientation": "h",
         "showlegend": true,
         "textposition": "auto",
         "type": "bar",
         "x": {
          "bdata": "exSuR+HCb0A=",
          "dtype": "f8"
         },
         "xaxis": "x",
         "y": [
          "Namco Bandai Games"
         ],
         "yaxis": "y"
        }
       ],
       "layout": {
        "barmode": "relative",
        "legend": {
         "title": {
          "text": "Publisher"
         },
         "tracegroupgap": 0
        },
        "template": {
         "data": {
          "bar": [
           {
            "error_x": {
             "color": "#2a3f5f"
            },
            "error_y": {
             "color": "#2a3f5f"
            },
            "marker": {
             "line": {
              "color": "#E5ECF6",
              "width": 0.5
             },
             "pattern": {
              "fillmode": "overlay",
              "size": 10,
              "solidity": 0.2
             }
            },
            "type": "bar"
           }
          ],
          "barpolar": [
           {
            "marker": {
             "line": {
              "color": "#E5ECF6",
              "width": 0.5
             },
             "pattern": {
              "fillmode": "overlay",
              "size": 10,
              "solidity": 0.2
             }
            },
            "type": "barpolar"
           }
          ],
          "carpet": [
           {
            "aaxis": {
             "endlinecolor": "#2a3f5f",
             "gridcolor": "white",
             "linecolor": "white",
             "minorgridcolor": "white",
             "startlinecolor": "#2a3f5f"
            },
            "baxis": {
             "endlinecolor": "#2a3f5f",
             "gridcolor": "white",
             "linecolor": "white",
             "minorgridcolor": "white",
             "startlinecolor": "#2a3f5f"
            },
            "type": "carpet"
           }
          ],
          "choropleth": [
           {
            "colorbar": {
             "outlinewidth": 0,
             "ticks": ""
            },
            "type": "choropleth"
           }
          ],
          "contour": [
           {
            "colorbar": {
             "outlinewidth": 0,
             "ticks": ""
            },
            "colorscale": [
             [
              0,
              "#0d0887"
             ],
             [
              0.1111111111111111,
              "#46039f"
             ],
             [
              0.2222222222222222,
              "#7201a8"
             ],
             [
              0.3333333333333333,
              "#9c179e"
             ],
             [
              0.4444444444444444,
              "#bd3786"
             ],
             [
              0.5555555555555556,
              "#d8576b"
             ],
             [
              0.6666666666666666,
              "#ed7953"
             ],
             [
              0.7777777777777778,
              "#fb9f3a"
             ],
             [
              0.8888888888888888,
              "#fdca26"
             ],
             [
              1,
              "#f0f921"
             ]
            ],
            "type": "contour"
           }
          ],
          "contourcarpet": [
           {
            "colorbar": {
             "outlinewidth": 0,
             "ticks": ""
            },
            "type": "contourcarpet"
           }
          ],
          "heatmap": [
           {
            "colorbar": {
             "outlinewidth": 0,
             "ticks": ""
            },
            "colorscale": [
             [
              0,
              "#0d0887"
             ],
             [
              0.1111111111111111,
              "#46039f"
             ],
             [
              0.2222222222222222,
              "#7201a8"
             ],
             [
              0.3333333333333333,
              "#9c179e"
             ],
             [
              0.4444444444444444,
              "#bd3786"
             ],
             [
              0.5555555555555556,
              "#d8576b"
             ],
             [
              0.6666666666666666,
              "#ed7953"
             ],
             [
              0.7777777777777778,
              "#fb9f3a"
             ],
             [
              0.8888888888888888,
              "#fdca26"
             ],
             [
              1,
              "#f0f921"
             ]
            ],
            "type": "heatmap"
           }
          ],
          "histogram": [
           {
            "marker": {
             "pattern": {
              "fillmode": "overlay",
              "size": 10,
              "solidity": 0.2
             }
            },
            "type": "histogram"
           }
          ],
          "histogram2d": [
           {
            "colorbar": {
             "outlinewidth": 0,
             "ticks": ""
            },
            "colorscale": [
             [
              0,
              "#0d0887"
             ],
             [
              0.1111111111111111,
              "#46039f"
             ],
             [
              0.2222222222222222,
              "#7201a8"
             ],
             [
              0.3333333333333333,
              "#9c179e"
             ],
             [
              0.4444444444444444,
              "#bd3786"
             ],
             [
              0.5555555555555556,
              "#d8576b"
             ],
             [
              0.6666666666666666,
              "#ed7953"
             ],
             [
              0.7777777777777778,
              "#fb9f3a"
             ],
             [
              0.8888888888888888,
              "#fdca26"
             ],
             [
              1,
              "#f0f921"
             ]
            ],
            "type": "histogram2d"
           }
          ],
          "histogram2dcontour": [
           {
            "colorbar": {
             "outlinewidth": 0,
             "ticks": ""
            },
            "colorscale": [
             [
              0,
              "#0d0887"
             ],
             [
              0.1111111111111111,
              "#46039f"
             ],
             [
              0.2222222222222222,
              "#7201a8"
             ],
             [
              0.3333333333333333,
              "#9c179e"
             ],
             [
              0.4444444444444444,
              "#bd3786"
             ],
             [
              0.5555555555555556,
              "#d8576b"
             ],
             [
              0.6666666666666666,
              "#ed7953"
             ],
             [
              0.7777777777777778,
              "#fb9f3a"
             ],
             [
              0.8888888888888888,
              "#fdca26"
             ],
             [
              1,
              "#f0f921"
             ]
            ],
            "type": "histogram2dcontour"
           }
          ],
          "mesh3d": [
           {
            "colorbar": {
             "outlinewidth": 0,
             "ticks": ""
            },
            "type": "mesh3d"
           }
          ],
          "parcoords": [
           {
            "line": {
             "colorbar": {
              "outlinewidth": 0,
              "ticks": ""
             }
            },
            "type": "parcoords"
           }
          ],
          "pie": [
           {
            "automargin": true,
            "type": "pie"
           }
          ],
          "scatter": [
           {
            "fillpattern": {
             "fillmode": "overlay",
             "size": 10,
             "solidity": 0.2
            },
            "type": "scatter"
           }
          ],
          "scatter3d": [
           {
            "line": {
             "colorbar": {
              "outlinewidth": 0,
              "ticks": ""
             }
            },
            "marker": {
             "colorbar": {
              "outlinewidth": 0,
              "ticks": ""
             }
            },
            "type": "scatter3d"
           }
          ],
          "scattercarpet": [
           {
            "marker": {
             "colorbar": {
              "outlinewidth": 0,
              "ticks": ""
             }
            },
            "type": "scattercarpet"
           }
          ],
          "scattergeo": [
           {
            "marker": {
             "colorbar": {
              "outlinewidth": 0,
              "ticks": ""
             }
            },
            "type": "scattergeo"
           }
          ],
          "scattergl": [
           {
            "marker": {
             "colorbar": {
              "outlinewidth": 0,
              "ticks": ""
             }
            },
            "type": "scattergl"
           }
          ],
          "scattermap": [
           {
            "marker": {
             "colorbar": {
              "outlinewidth": 0,
              "ticks": ""
             }
            },
            "type": "scattermap"
           }
          ],
          "scattermapbox": [
           {
            "marker": {
             "colorbar": {
              "outlinewidth": 0,
              "ticks": ""
             }
            },
            "type": "scattermapbox"
           }
          ],
          "scatterpolar": [
           {
            "marker": {
             "colorbar": {
              "outlinewidth": 0,
              "ticks": ""
             }
            },
            "type": "scatterpolar"
           }
          ],
          "scatterpolargl": [
           {
            "marker": {
             "colorbar": {
              "outlinewidth": 0,
              "ticks": ""
             }
            },
            "type": "scatterpolargl"
           }
          ],
          "scatterternary": [
           {
            "marker": {
             "colorbar": {
              "outlinewidth": 0,
              "ticks": ""
             }
            },
            "type": "scatterternary"
           }
          ],
          "surface": [
           {
            "colorbar": {
             "outlinewidth": 0,
             "ticks": ""
            },
            "colorscale": [
             [
              0,
              "#0d0887"
             ],
             [
              0.1111111111111111,
              "#46039f"
             ],
             [
              0.2222222222222222,
              "#7201a8"
             ],
             [
              0.3333333333333333,
              "#9c179e"
             ],
             [
              0.4444444444444444,
              "#bd3786"
             ],
             [
              0.5555555555555556,
              "#d8576b"
             ],
             [
              0.6666666666666666,
              "#ed7953"
             ],
             [
              0.7777777777777778,
              "#fb9f3a"
             ],
             [
              0.8888888888888888,
              "#fdca26"
             ],
             [
              1,
              "#f0f921"
             ]
            ],
            "type": "surface"
           }
          ],
          "table": [
           {
            "cells": {
             "fill": {
              "color": "#EBF0F8"
             },
             "line": {
              "color": "white"
             }
            },
            "header": {
             "fill": {
              "color": "#C8D4E3"
             },
             "line": {
              "color": "white"
             }
            },
            "type": "table"
           }
          ]
         },
         "layout": {
          "annotationdefaults": {
           "arrowcolor": "#2a3f5f",
           "arrowhead": 0,
           "arrowwidth": 1
          },
          "autotypenumbers": "strict",
          "coloraxis": {
           "colorbar": {
            "outlinewidth": 0,
            "ticks": ""
           }
          },
          "colorscale": {
           "diverging": [
            [
             0,
             "#8e0152"
            ],
            [
             0.1,
             "#c51b7d"
            ],
            [
             0.2,
             "#de77ae"
            ],
            [
             0.3,
             "#f1b6da"
            ],
            [
             0.4,
             "#fde0ef"
            ],
            [
             0.5,
             "#f7f7f7"
            ],
            [
             0.6,
             "#e6f5d0"
            ],
            [
             0.7,
             "#b8e186"
            ],
            [
             0.8,
             "#7fbc41"
            ],
            [
             0.9,
             "#4d9221"
            ],
            [
             1,
             "#276419"
            ]
           ],
           "sequential": [
            [
             0,
             "#0d0887"
            ],
            [
             0.1111111111111111,
             "#46039f"
            ],
            [
             0.2222222222222222,
             "#7201a8"
            ],
            [
             0.3333333333333333,
             "#9c179e"
            ],
            [
             0.4444444444444444,
             "#bd3786"
            ],
            [
             0.5555555555555556,
             "#d8576b"
            ],
            [
             0.6666666666666666,
             "#ed7953"
            ],
            [
             0.7777777777777778,
             "#fb9f3a"
            ],
            [
             0.8888888888888888,
             "#fdca26"
            ],
            [
             1,
             "#f0f921"
            ]
           ],
           "sequentialminus": [
            [
             0,
             "#0d0887"
            ],
            [
             0.1111111111111111,
             "#46039f"
            ],
            [
             0.2222222222222222,
             "#7201a8"
            ],
            [
             0.3333333333333333,
             "#9c179e"
            ],
            [
             0.4444444444444444,
             "#bd3786"
            ],
            [
             0.5555555555555556,
             "#d8576b"
            ],
            [
             0.6666666666666666,
             "#ed7953"
            ],
            [
             0.7777777777777778,
             "#fb9f3a"
            ],
            [
             0.8888888888888888,
             "#fdca26"
            ],
            [
             1,
             "#f0f921"
            ]
           ]
          },
          "colorway": [
           "#636efa",
           "#EF553B",
           "#00cc96",
           "#ab63fa",
           "#FFA15A",
           "#19d3f3",
           "#FF6692",
           "#B6E880",
           "#FF97FF",
           "#FECB52"
          ],
          "font": {
           "color": "#2a3f5f"
          },
          "geo": {
           "bgcolor": "white",
           "lakecolor": "white",
           "landcolor": "#E5ECF6",
           "showlakes": true,
           "showland": true,
           "subunitcolor": "white"
          },
          "hoverlabel": {
           "align": "left"
          },
          "hovermode": "closest",
          "mapbox": {
           "style": "light"
          },
          "paper_bgcolor": "white",
          "plot_bgcolor": "#E5ECF6",
          "polar": {
           "angularaxis": {
            "gridcolor": "white",
            "linecolor": "white",
            "ticks": ""
           },
           "bgcolor": "#E5ECF6",
           "radialaxis": {
            "gridcolor": "white",
            "linecolor": "white",
            "ticks": ""
           }
          },
          "scene": {
           "xaxis": {
            "backgroundcolor": "#E5ECF6",
            "gridcolor": "white",
            "gridwidth": 2,
            "linecolor": "white",
            "showbackground": true,
            "ticks": "",
            "zerolinecolor": "white"
           },
           "yaxis": {
            "backgroundcolor": "#E5ECF6",
            "gridcolor": "white",
            "gridwidth": 2,
            "linecolor": "white",
            "showbackground": true,
            "ticks": "",
            "zerolinecolor": "white"
           },
           "zaxis": {
            "backgroundcolor": "#E5ECF6",
            "gridcolor": "white",
            "gridwidth": 2,
            "linecolor": "white",
            "showbackground": true,
            "ticks": "",
            "zerolinecolor": "white"
           }
          },
          "shapedefaults": {
           "line": {
            "color": "#2a3f5f"
           }
          },
          "ternary": {
           "aaxis": {
            "gridcolor": "white",
            "linecolor": "white",
            "ticks": ""
           },
           "baxis": {
            "gridcolor": "white",
            "linecolor": "white",
            "ticks": ""
           },
           "bgcolor": "#E5ECF6",
           "caxis": {
            "gridcolor": "white",
            "linecolor": "white",
            "ticks": ""
           }
          },
          "title": {
           "x": 0.05
          },
          "xaxis": {
           "automargin": true,
           "gridcolor": "white",
           "linecolor": "white",
           "ticks": "",
           "title": {
            "standoff": 15
           },
           "zerolinecolor": "white",
           "zerolinewidth": 2
          },
          "yaxis": {
           "automargin": true,
           "gridcolor": "white",
           "linecolor": "white",
           "ticks": "",
           "title": {
            "standoff": 15
           },
           "zerolinecolor": "white",
           "zerolinewidth": 2
          }
         }
        },
        "title": {
         "text": "Top 10 Publishers by Global Sales"
        },
        "xaxis": {
         "anchor": "y",
         "domain": [
          0,
          1
         ],
         "title": {
          "text": "Global Sales (Millions)"
         }
        },
        "yaxis": {
         "anchor": "x",
         "categoryarray": [
          "Namco Bandai Games",
          "Sega",
          "Konami Digital Entertainment",
          "THQ",
          "Take-Two Interactive",
          "Ubisoft",
          "Sony Computer Entertainment",
          "Activision",
          "Electronic Arts",
          "Nintendo"
         ],
         "categoryorder": "total ascending",
         "domain": [
          0,
          1
         ],
         "title": {
          "text": "Publisher"
         }
        }
       }
      },
      "image/png": "[encoded data removed]"
     },
     "metadata": {},
     "output_type": "display_data"
    }
   ],
   "source": [
    "top_publishers = df.groupby('Publisher')['Global_Sales'].sum().sort_values(ascending=False).head(10).reset_index()\n",
    "\n",
    "fig = px.bar(top_publishers, x='Global_Sales', y='Publisher', orientation='h', color='Publisher',\n",
    "             title=\"Top 10 Publishers by Global Sales\", labels={'Global_Sales': 'Global Sales (Millions)'})\n",
    "fig.update_layout(yaxis={'categoryorder': 'total ascending'})\n",
    "fig.show()\n"
   ]
  },
  {
   "cell_type": "markdown",
   "id": "ae301f72-0a91-4b2f-b71c-4958185b6570",
   "metadata": {},
   "source": [
    "### Global Sales By Genre"
   ]
  },
  {
   "cell_type": "code",
   "execution_count": 4,
   "id": "dcb164b7-844c-480c-bba9-9f20de433bf0",
   "metadata": {},
   "outputs": [
    {
     "data": {
      "application/vnd.plotly.v1+json": {
       "config": {
        "plotlyServerURL": "https://plot.ly"
       },
       "data": [
        {
         "domain": {
          "x": [
           0,
           1
          ],
          "y": [
           0,
           1
          ]
         },
         "hole": 0.4,
         "hovertemplate": "Genre=%{label}<br>Global_Sales=%{value}<extra></extra>",
         "labels": [
          "Action",
          "Sports",
          "Shooter",
          "Role-Playing",
          "Platform",
          "Misc",
          "Racing",
          "Fighting",
          "Simulation",
          "Puzzle",
          "Adventure",
          "Strategy"
         ],
         "legendgroup": "",
         "name": "",
         "showlegend": true,
         "textinfo": "percent+label",
         "textposition": "inside",
         "type": "pie",
         "values": {
          "bdata": "H4XrUbhcm0AfhetRuMuUQBSuR+F6NZBAKVyPwvX6jEApXI/C9fqJQEjhehSuT4lAuB6F61HghkDD9Shcjw58QDMzMzMzg3hAZmZmZmaebkDhehSuR+FtQKRwPQrX42VA",
          "dtype": "f8"
         }
        }
       ],
       "layout": {
        "legend": {
         "tracegroupgap": 0
        },
        "template": {
         "data": {
          "bar": [
           {
            "error_x": {
             "color": "#2a3f5f"
            },
            "error_y": {
             "color": "#2a3f5f"
            },
            "marker": {
             "line": {
              "color": "#E5ECF6",
              "width": 0.5
             },
             "pattern": {
              "fillmode": "overlay",
              "size": 10,
              "solidity": 0.2
             }
            },
            "type": "bar"
           }
          ],
          "barpolar": [
           {
            "marker": {
             "line": {
              "color": "#E5ECF6",
              "width": 0.5
             },
             "pattern": {
              "fillmode": "overlay",
              "size": 10,
              "solidity": 0.2
             }
            },
            "type": "barpolar"
           }
          ],
          "carpet": [
           {
            "aaxis": {
             "endlinecolor": "#2a3f5f",
             "gridcolor": "white",
             "linecolor": "white",
             "minorgridcolor": "white",
             "startlinecolor": "#2a3f5f"
            },
            "baxis": {
             "endlinecolor": "#2a3f5f",
             "gridcolor": "white",
             "linecolor": "white",
             "minorgridcolor": "white",
             "startlinecolor": "#2a3f5f"
            },
            "type": "carpet"
           }
          ],
          "choropleth": [
           {
            "colorbar": {
             "outlinewidth": 0,
             "ticks": ""
            },
            "type": "choropleth"
           }
          ],
          "contour": [
           {
            "colorbar": {
             "outlinewidth": 0,
             "ticks": ""
            },
            "colorscale": [
             [
              0,
              "#0d0887"
             ],
             [
              0.1111111111111111,
              "#46039f"
             ],
             [
              0.2222222222222222,
              "#7201a8"
             ],
             [
              0.3333333333333333,
              "#9c179e"
             ],
             [
              0.4444444444444444,
              "#bd3786"
             ],
             [
              0.5555555555555556,
              "#d8576b"
             ],
             [
              0.6666666666666666,
              "#ed7953"
             ],
             [
              0.7777777777777778,
              "#fb9f3a"
             ],
             [
              0.8888888888888888,
              "#fdca26"
             ],
             [
              1,
              "#f0f921"
             ]
            ],
            "type": "contour"
           }
          ],
          "contourcarpet": [
           {
            "colorbar": {
             "outlinewidth": 0,
             "ticks": ""
            },
            "type": "contourcarpet"
           }
          ],
          "heatmap": [
           {
            "colorbar": {
             "outlinewidth": 0,
             "ticks": ""
            },
            "colorscale": [
             [
              0,
              "#0d0887"
             ],
             [
              0.1111111111111111,
              "#46039f"
             ],
             [
              0.2222222222222222,
              "#7201a8"
             ],
             [
              0.3333333333333333,
              "#9c179e"
             ],
             [
              0.4444444444444444,
              "#bd3786"
             ],
             [
              0.5555555555555556,
              "#d8576b"
             ],
             [
              0.6666666666666666,
              "#ed7953"
             ],
             [
              0.7777777777777778,
              "#fb9f3a"
             ],
             [
              0.8888888888888888,
              "#fdca26"
             ],
             [
              1,
              "#f0f921"
             ]
            ],
            "type": "heatmap"
           }
          ],
          "histogram": [
           {
            "marker": {
             "pattern": {
              "fillmode": "overlay",
              "size": 10,
              "solidity": 0.2
             }
            },
            "type": "histogram"
           }
          ],
          "histogram2d": [
           {
            "colorbar": {
             "outlinewidth": 0,
             "ticks": ""
            },
            "colorscale": [
             [
              0,
              "#0d0887"
             ],
             [
              0.1111111111111111,
              "#46039f"
             ],
             [
              0.2222222222222222,
              "#7201a8"
             ],
             [
              0.3333333333333333,
              "#9c179e"
             ],
             [
              0.4444444444444444,
              "#bd3786"
             ],
             [
              0.5555555555555556,
              "#d8576b"
             ],
             [
              0.6666666666666666,
              "#ed7953"
             ],
             [
              0.7777777777777778,
              "#fb9f3a"
             ],
             [
              0.8888888888888888,
              "#fdca26"
             ],
             [
              1,
              "#f0f921"
             ]
            ],
            "type": "histogram2d"
           }
          ],
          "histogram2dcontour": [
           {
            "colorbar": {
             "outlinewidth": 0,
             "ticks": ""
            },
            "colorscale": [
             [
              0,
              "#0d0887"
             ],
             [
              0.1111111111111111,
              "#46039f"
             ],
             [
              0.2222222222222222,
              "#7201a8"
             ],
             [
              0.3333333333333333,
              "#9c179e"
             ],
             [
              0.4444444444444444,
              "#bd3786"
             ],
             [
              0.5555555555555556,
              "#d8576b"
             ],
             [
              0.6666666666666666,
              "#ed7953"
             ],
             [
              0.7777777777777778,
              "#fb9f3a"
             ],
             [
              0.8888888888888888,
              "#fdca26"
             ],
             [
              1,
              "#f0f921"
             ]
            ],
            "type": "histogram2dcontour"
           }
          ],
          "mesh3d": [
           {
            "colorbar": {
             "outlinewidth": 0,
             "ticks": ""
            },
            "type": "mesh3d"
           }
          ],
          "parcoords": [
           {
            "line": {
             "colorbar": {
              "outlinewidth": 0,
              "ticks": ""
             }
            },
            "type": "parcoords"
           }
          ],
          "pie": [
           {
            "automargin": true,
            "type": "pie"
           }
          ],
          "scatter": [
           {
            "fillpattern": {
             "fillmode": "overlay",
             "size": 10,
             "solidity": 0.2
            },
            "type": "scatter"
           }
          ],
          "scatter3d": [
           {
            "line": {
             "colorbar": {
              "outlinewidth": 0,
              "ticks": ""
             }
            },
            "marker": {
             "colorbar": {
              "outlinewidth": 0,
              "ticks": ""
             }
            },
            "type": "scatter3d"
           }
          ],
          "scattercarpet": [
           {
            "marker": {
             "colorbar": {
              "outlinewidth": 0,
              "ticks": ""
             }
            },
            "type": "scattercarpet"
           }
          ],
          "scattergeo": [
           {
            "marker": {
             "colorbar": {
              "outlinewidth": 0,
              "ticks": ""
             }
            },
            "type": "scattergeo"
           }
          ],
          "scattergl": [
           {
            "marker": {
             "colorbar": {
              "outlinewidth": 0,
              "ticks": ""
             }
            },
            "type": "scattergl"
           }
          ],
          "scattermap": [
           {
            "marker": {
             "colorbar": {
              "outlinewidth": 0,
              "ticks": ""
             }
            },
            "type": "scattermap"
           }
          ],
          "scattermapbox": [
           {
            "marker": {
             "colorbar": {
              "outlinewidth": 0,
              "ticks": ""
             }
            },
            "type": "scattermapbox"
           }
          ],
          "scatterpolar": [
           {
            "marker": {
             "colorbar": {
              "outlinewidth": 0,
              "ticks": ""
             }
            },
            "type": "scatterpolar"
           }
          ],
          "scatterpolargl": [
           {
            "marker": {
             "colorbar": {
              "outlinewidth": 0,
              "ticks": ""
             }
            },
            "type": "scatterpolargl"
           }
          ],
          "scatterternary": [
           {
            "marker": {
             "colorbar": {
              "outlinewidth": 0,
              "ticks": ""
             }
            },
            "type": "scatterternary"
           }
          ],
          "surface": [
           {
            "colorbar": {
             "outlinewidth": 0,
             "ticks": ""
            },
            "colorscale": [
             [
              0,
              "#0d0887"
             ],
             [
              0.1111111111111111,
              "#46039f"
             ],
             [
              0.2222222222222222,
              "#7201a8"
             ],
             [
              0.3333333333333333,
              "#9c179e"
             ],
             [
              0.4444444444444444,
              "#bd3786"
             ],
             [
              0.5555555555555556,
              "#d8576b"
             ],
             [
              0.6666666666666666,
              "#ed7953"
             ],
             [
              0.7777777777777778,
              "#fb9f3a"
             ],
             [
              0.8888888888888888,
              "#fdca26"
             ],
             [
              1,
              "#f0f921"
             ]
            ],
            "type": "surface"
           }
          ],
          "table": [
           {
            "cells": {
             "fill": {
              "color": "#EBF0F8"
             },
             "line": {
              "color": "white"
             }
            },
            "header": {
             "fill": {
              "color": "#C8D4E3"
             },
             "line": {
              "color": "white"
             }
            },
            "type": "table"
           }
          ]
         },
         "layout": {
          "annotationdefaults": {
           "arrowcolor": "#2a3f5f",
           "arrowhead": 0,
           "arrowwidth": 1
          },
          "autotypenumbers": "strict",
          "coloraxis": {
           "colorbar": {
            "outlinewidth": 0,
            "ticks": ""
           }
          },
          "colorscale": {
           "diverging": [
            [
             0,
             "#8e0152"
            ],
            [
             0.1,
             "#c51b7d"
            ],
            [
             0.2,
             "#de77ae"
            ],
            [
             0.3,
             "#f1b6da"
            ],
            [
             0.4,
             "#fde0ef"
            ],
            [
             0.5,
             "#f7f7f7"
            ],
            [
             0.6,
             "#e6f5d0"
            ],
            [
             0.7,
             "#b8e186"
            ],
            [
             0.8,
             "#7fbc41"
            ],
            [
             0.9,
             "#4d9221"
            ],
            [
             1,
             "#276419"
            ]
           ],
           "sequential": [
            [
             0,
             "#0d0887"
            ],
            [
             0.1111111111111111,
             "#46039f"
            ],
            [
             0.2222222222222222,
             "#7201a8"
            ],
            [
             0.3333333333333333,
             "#9c179e"
            ],
            [
             0.4444444444444444,
             "#bd3786"
            ],
            [
             0.5555555555555556,
             "#d8576b"
            ],
            [
             0.6666666666666666,
             "#ed7953"
            ],
            [
             0.7777777777777778,
             "#fb9f3a"
            ],
            [
             0.8888888888888888,
             "#fdca26"
            ],
            [
             1,
             "#f0f921"
            ]
           ],
           "sequentialminus": [
            [
             0,
             "#0d0887"
            ],
            [
             0.1111111111111111,
             "#46039f"
            ],
            [
             0.2222222222222222,
             "#7201a8"
            ],
            [
             0.3333333333333333,
             "#9c179e"
            ],
            [
             0.4444444444444444,
             "#bd3786"
            ],
            [
             0.5555555555555556,
             "#d8576b"
            ],
            [
             0.6666666666666666,
             "#ed7953"
            ],
            [
             0.7777777777777778,
             "#fb9f3a"
            ],
            [
             0.8888888888888888,
             "#fdca26"
            ],
            [
             1,
             "#f0f921"
            ]
           ]
          },
          "colorway": [
           "#636efa",
           "#EF553B",
           "#00cc96",
           "#ab63fa",
           "#FFA15A",
           "#19d3f3",
           "#FF6692",
           "#B6E880",
           "#FF97FF",
           "#FECB52"
          ],
          "font": {
           "color": "#2a3f5f"
          },
          "geo": {
           "bgcolor": "white",
           "lakecolor": "white",
           "landcolor": "#E5ECF6",
           "showlakes": true,
           "showland": true,
           "subunitcolor": "white"
          },
          "hoverlabel": {
           "align": "left"
          },
          "hovermode": "closest",
          "mapbox": {
           "style": "light"
          },
          "paper_bgcolor": "white",
          "plot_bgcolor": "#E5ECF6",
          "polar": {
           "angularaxis": {
            "gridcolor": "white",
            "linecolor": "white",
            "ticks": ""
           },
           "bgcolor": "#E5ECF6",
           "radialaxis": {
            "gridcolor": "white",
            "linecolor": "white",
            "ticks": ""
           }
          },
          "scene": {
           "xaxis": {
            "backgroundcolor": "#E5ECF6",
            "gridcolor": "white",
            "gridwidth": 2,
            "linecolor": "white",
            "showbackground": true,
            "ticks": "",
            "zerolinecolor": "white"
           },
           "yaxis": {
            "backgroundcolor": "#E5ECF6",
            "gridcolor": "white",
            "gridwidth": 2,
            "linecolor": "white",
            "showbackground": true,
            "ticks": "",
            "zerolinecolor": "white"
           },
           "zaxis": {
            "backgroundcolor": "#E5ECF6",
            "gridcolor": "white",
            "gridwidth": 2,
            "linecolor": "white",
            "showbackground": true,
            "ticks": "",
            "zerolinecolor": "white"
           }
          },
          "shapedefaults": {
           "line": {
            "color": "#2a3f5f"
           }
          },
          "ternary": {
           "aaxis": {
            "gridcolor": "white",
            "linecolor": "white",
            "ticks": ""
           },
           "baxis": {
            "gridcolor": "white",
            "linecolor": "white",
            "ticks": ""
           },
           "bgcolor": "#E5ECF6",
           "caxis": {
            "gridcolor": "white",
            "linecolor": "white",
            "ticks": ""
           }
          },
          "title": {
           "x": 0.05
          },
          "xaxis": {
           "automargin": true,
           "gridcolor": "white",
           "linecolor": "white",
           "ticks": "",
           "title": {
            "standoff": 15
           },
           "zerolinecolor": "white",
           "zerolinewidth": 2
          },
          "yaxis": {
           "automargin": true,
           "gridcolor": "white",
           "linecolor": "white",
           "ticks": "",
           "title": {
            "standoff": 15
           },
           "zerolinecolor": "white",
           "zerolinewidth": 2
          }
         }
        },
        "title": {
         "text": "🎮 Global Sales Distribution by Genre"
        }
       }
      },
      "image/png": "[encoded data removed]"
     },
     "metadata": {},
     "output_type": "display_data"
    }
   ],
   "source": [
    "genre_sales = df.groupby('Genre')['Global_Sales'].sum().sort_values(ascending=False).reset_index()\n",
    "\n",
    "fig = px.pie(genre_sales, values='Global_Sales', names='Genre',\n",
    "             title=\"🎮 Global Sales Distribution by Genre\",\n",
    "             hole=0.4)  # Donut style\n",
    "fig.update_traces(textposition='inside', textinfo='percent+label')\n",
    "fig.show()\n"
   ]
  },
  {
   "cell_type": "code",
   "execution_count": null,
   "id": "73016865-9049-454d-af4a-b246bffe9f26",
   "metadata": {},
   "outputs": [],
   "source": []
  }
 ],
 "metadata": {
  "kernelspec": {
   "display_name": "Python 3 (ipykernel)",
   "language": "python",
   "name": "python3"
  },
  "language_info": {
   "codemirror_mode": {
    "name": "ipython",
    "version": 3
   },
   "file_extension": ".py",
   "mimetype": "text/x-python",
   "name": "python",
   "nbconvert_exporter": "python",
   "pygments_lexer": "ipython3",
   "version": "3.13.3"
  }
 },
 "nbformat": 4,
 "nbformat_minor": 5
}
